{
 "cells": [
  {
   "cell_type": "markdown",
   "metadata": {},
   "source": [
    "# 000_Prepare_Data"
   ]
  },
  {
   "cell_type": "markdown",
   "metadata": {},
   "source": [
    "In this notebook I will...\n",
    "* Complete initial exploration of the obtained data.\n",
    "* Cleanse it for the time-series classification process.\n",
    "* Create new features which will be used in the eventual analysis and advanced stages."
   ]
  },
  {
   "cell_type": "markdown",
   "metadata": {
    "toc": true
   },
   "source": [
    "<h1>Table of Contents<span class=\"tocSkip\"></span></h1>\n",
    "<div class=\"toc\"><ul class=\"toc-item\"><li><span><a href=\"#000_Prepare_Data\" data-toc-modified-id=\"000_Prepare_Data-1\"><span class=\"toc-item-num\">1&nbsp;&nbsp;</span>000_Prepare_Data</a></span></li><li><span><a href=\"#Notebook-Set-Up\" data-toc-modified-id=\"Notebook-Set-Up-2\"><span class=\"toc-item-num\">2&nbsp;&nbsp;</span>Notebook Set Up</a></span><ul class=\"toc-item\"><li><span><a href=\"#Import-Packages\" data-toc-modified-id=\"Import-Packages-2.1\"><span class=\"toc-item-num\">2.1&nbsp;&nbsp;</span>Import Packages</a></span></li><li><span><a href=\"#Set-Parameters-For-Graphs\" data-toc-modified-id=\"Set-Parameters-For-Graphs-2.2\"><span class=\"toc-item-num\">2.2&nbsp;&nbsp;</span>Set Parameters For Graphs</a></span></li><li><span><a href=\"#Load-The-Data\" data-toc-modified-id=\"Load-The-Data-2.3\"><span class=\"toc-item-num\">2.3&nbsp;&nbsp;</span>Load The Data</a></span></li><li><span><a href=\"#Initial-Exploration-The-Data\" data-toc-modified-id=\"Initial-Exploration-The-Data-2.4\"><span class=\"toc-item-num\">2.4&nbsp;&nbsp;</span>Initial Exploration The Data</a></span></li></ul></li><li><span><a href=\"#Create-/-Modify-Columns\" data-toc-modified-id=\"Create-/-Modify-Columns-3\"><span class=\"toc-item-num\">3&nbsp;&nbsp;</span>Create / Modify Columns</a></span><ul class=\"toc-item\"><li><span><a href=\"#Marathon-Time-in-Hours\" data-toc-modified-id=\"Marathon-Time-in-Hours-3.1\"><span class=\"toc-item-num\">3.1&nbsp;&nbsp;</span>Marathon Time in Hours</a></span></li><li><span><a href=\"#Marathon-Speed-Of-Athletes-In-km/h\" data-toc-modified-id=\"Marathon-Speed-Of-Athletes-In-km/h-3.2\"><span class=\"toc-item-num\">3.2&nbsp;&nbsp;</span>Marathon Speed Of Athletes In km/h</a></span></li><li><span><a href=\"#Convert-totaldistance-From-Meters-to-KM\" data-toc-modified-id=\"Convert-totaldistance-From-Meters-to-KM-3.3\"><span class=\"toc-item-num\">3.3&nbsp;&nbsp;</span>Convert totaldistance From Meters to KM</a></span></li><li><span><a href=\"#Convert-Total-Session-Time-From-Seconds-To-Minutes\" data-toc-modified-id=\"Convert-Total-Session-Time-From-Seconds-To-Minutes-3.4\"><span class=\"toc-item-num\">3.4&nbsp;&nbsp;</span>Convert Total Session Time From Seconds To Minutes</a></span></li><li><span><a href=\"#Calculate-Session-Speed-(KM/H)\" data-toc-modified-id=\"Calculate-Session-Speed-(KM/H)-3.5\"><span class=\"toc-item-num\">3.5&nbsp;&nbsp;</span>Calculate Session Speed (KM/H)</a></span></li></ul></li><li><span><a href=\"#Clean-The-Data\" data-toc-modified-id=\"Clean-The-Data-4\"><span class=\"toc-item-num\">4&nbsp;&nbsp;</span>Clean The Data</a></span><ul class=\"toc-item\"><li><span><a href=\"#Drop-Columns-(Which-Won't-Be-Used-In-Project)\" data-toc-modified-id=\"Drop-Columns-(Which-Won't-Be-Used-In-Project)-4.1\"><span class=\"toc-item-num\">4.1&nbsp;&nbsp;</span>Drop Columns (Which Won't Be Used In Project)</a></span></li><li><span><a href=\"#Deal-with-runners-who-ran-more-than-once-in-one-day.\" data-toc-modified-id=\"Deal-with-runners-who-ran-more-than-once-in-one-day.-4.2\"><span class=\"toc-item-num\">4.2&nbsp;&nbsp;</span>Deal with runners who ran more than once in one day.</a></span></li><li><span><a href=\"#Plot-Session-(Distance-vs-Speed),-To-Show-Extent-Of-Cleaning-Needed\" data-toc-modified-id=\"Plot-Session-(Distance-vs-Speed),-To-Show-Extent-Of-Cleaning-Needed-4.3\"><span class=\"toc-item-num\">4.3&nbsp;&nbsp;</span>Plot Session (Distance vs Speed), To Show Extent Of Cleaning Needed</a></span></li><li><span><a href=\"#Filter-Out-Sessions-Completed-Outside-Of-The-Training-Period\" data-toc-modified-id=\"Filter-Out-Sessions-Completed-Outside-Of-The-Training-Period-4.4\"><span class=\"toc-item-num\">4.4&nbsp;&nbsp;</span>Filter Out Sessions Completed Outside Of The Training Period</a></span></li><li><span><a href=\"#Remove-Athletes-With-Invalid-Marathon-Finish-Time\" data-toc-modified-id=\"Remove-Athletes-With-Invalid-Marathon-Finish-Time-4.5\"><span class=\"toc-item-num\">4.5&nbsp;&nbsp;</span>Remove Athletes With Invalid Marathon Finish Time</a></span></li><li><span><a href=\"#Remove-All-Athletes-Who-Have-An-Invalid-Average-Speed-In-Any-Of-Their-Sessions.\" data-toc-modified-id=\"Remove-All-Athletes-Who-Have-An-Invalid-Average-Speed-In-Any-Of-Their-Sessions.-4.6\"><span class=\"toc-item-num\">4.6&nbsp;&nbsp;</span>Remove All Athletes Who Have An Invalid Average Speed In Any Of Their Sessions.</a></span></li><li><span><a href=\"#Remove-All-Athletes-Who-Have-An-Suspicious-Distance-Travelled-In-Any-Of-Their-Sessions.\" data-toc-modified-id=\"Remove-All-Athletes-Who-Have-An-Suspicious-Distance-Travelled-In-Any-Of-Their-Sessions.-4.7\"><span class=\"toc-item-num\">4.7&nbsp;&nbsp;</span>Remove All Athletes Who Have An Suspicious Distance Travelled In Any Of Their Sessions.</a></span></li><li><span><a href=\"#Filter-Using-Combinations-Of-Both-Distance-And-Speed-(World-Records)\" data-toc-modified-id=\"Filter-Using-Combinations-Of-Both-Distance-And-Speed-(World-Records)-4.8\"><span class=\"toc-item-num\">4.8&nbsp;&nbsp;</span>Filter Using Combinations Of Both Distance And Speed (World Records)</a></span></li><li><span><a href=\"#Filter-Out-Overly-Long-Session-Times\" data-toc-modified-id=\"Filter-Out-Overly-Long-Session-Times-4.9\"><span class=\"toc-item-num\">4.9&nbsp;&nbsp;</span>Filter Out Overly Long Session Times</a></span></li><li><span><a href=\"#Filter-Out-Any-Athletes-Who-Have-Suspiciously-HIGH/LOW-Elevation-Gains-In-Any-Of-Their-Sessions\" data-toc-modified-id=\"Filter-Out-Any-Athletes-Who-Have-Suspiciously-HIGH/LOW-Elevation-Gains-In-Any-Of-Their-Sessions-4.10\"><span class=\"toc-item-num\">4.10&nbsp;&nbsp;</span>Filter Out Any Athletes Who Have Suspiciously HIGH/LOW Elevation Gains In Any Of Their Sessions</a></span></li><li><span><a href=\"#Filter-Out-Athletes-Who-Just-Did-1-Session\" data-toc-modified-id=\"Filter-Out-Athletes-Who-Just-Did-1-Session-4.11\"><span class=\"toc-item-num\">4.11&nbsp;&nbsp;</span>Filter Out Athletes Who Just Did 1 Session</a></span></li><li><span><a href=\"#Plot-Remaining-Session\" data-toc-modified-id=\"Plot-Remaining-Session-4.12\"><span class=\"toc-item-num\">4.12&nbsp;&nbsp;</span>Plot Remaining Session</a></span></li></ul></li><li><span><a href=\"#Prepare-And-Export-The-Various-Dataframes\" data-toc-modified-id=\"Prepare-And-Export-The-Various-Dataframes-5\"><span class=\"toc-item-num\">5&nbsp;&nbsp;</span>Prepare And Export The Various Dataframes</a></span><ul class=\"toc-item\"><li><span><a href=\"#Core-Dataframe\" data-toc-modified-id=\"Core-Dataframe-5.1\"><span class=\"toc-item-num\">5.1&nbsp;&nbsp;</span>Core Dataframe</a></span><ul class=\"toc-item\"><li><span><a href=\"#Create-New-Columns\" data-toc-modified-id=\"Create-New-Columns-5.1.1\"><span class=\"toc-item-num\">5.1.1&nbsp;&nbsp;</span>Create New Columns</a></span></li><li><span><a href=\"#Export-Dataframe\" data-toc-modified-id=\"Export-Dataframe-5.1.2\"><span class=\"toc-item-num\">5.1.2&nbsp;&nbsp;</span>Export Dataframe</a></span></li></ul></li><li><span><a href=\"#Advanced-Dataframe:-Training-Set,-First-7-weeks\" data-toc-modified-id=\"Advanced-Dataframe:-Training-Set,-First-7-weeks-5.2\"><span class=\"toc-item-num\">5.2&nbsp;&nbsp;</span>Advanced Dataframe: Training Set, First 7 weeks</a></span><ul class=\"toc-item\"><li><span><a href=\"#Export-Dataframe\" data-toc-modified-id=\"Export-Dataframe-5.2.1\"><span class=\"toc-item-num\">5.2.1&nbsp;&nbsp;</span>Export Dataframe</a></span></li></ul></li><li><span><a href=\"#Advanced-Dataframe:-Test-Set,-First-7-weeks\" data-toc-modified-id=\"Advanced-Dataframe:-Test-Set,-First-7-weeks-5.3\"><span class=\"toc-item-num\">5.3&nbsp;&nbsp;</span>Advanced Dataframe: Test Set, First 7 weeks</a></span><ul class=\"toc-item\"><li><span><a href=\"#Create-New-Features\" data-toc-modified-id=\"Create-New-Features-5.3.1\"><span class=\"toc-item-num\">5.3.1&nbsp;&nbsp;</span>Create New Features</a></span></li><li><span><a href=\"#Export-Dataframe\" data-toc-modified-id=\"Export-Dataframe-5.3.2\"><span class=\"toc-item-num\">5.3.2&nbsp;&nbsp;</span>Export Dataframe</a></span></li></ul></li><li><span><a href=\"#Advanced-Dataframe:-Training-Set,-Last-7-weeks\" data-toc-modified-id=\"Advanced-Dataframe:-Training-Set,-Last-7-weeks-5.4\"><span class=\"toc-item-num\">5.4&nbsp;&nbsp;</span>Advanced Dataframe: Training Set, Last 7 weeks</a></span><ul class=\"toc-item\"><li><span><a href=\"#Create-New-Columns\" data-toc-modified-id=\"Create-New-Columns-5.4.1\"><span class=\"toc-item-num\">5.4.1&nbsp;&nbsp;</span>Create New Columns</a></span></li><li><span><a href=\"#Export-Dataframe\" data-toc-modified-id=\"Export-Dataframe-5.4.2\"><span class=\"toc-item-num\">5.4.2&nbsp;&nbsp;</span>Export Dataframe</a></span></li></ul></li></ul></li></ul></div>"
   ]
  },
  {
   "cell_type": "markdown",
   "metadata": {},
   "source": [
    "# Notebook Set Up"
   ]
  },
  {
   "cell_type": "markdown",
   "metadata": {},
   "source": [
    "## Import Packages "
   ]
  },
  {
   "cell_type": "code",
   "execution_count": 62,
   "metadata": {},
   "outputs": [],
   "source": [
    "import pickle\n",
    "import os.path\n",
    "import numpy as np\n",
    "import pandas as pd\n",
    "from math import sqrt\n",
    "from datetime import datetime\n",
    "import matplotlib.pyplot as plt\n",
    "from sklearn.model_selection import train_test_split\n",
    "%matplotlib inline"
   ]
  },
  {
   "cell_type": "markdown",
   "metadata": {},
   "source": [
    "## Set Parameters For Graphs"
   ]
  },
  {
   "cell_type": "markdown",
   "metadata": {},
   "source": [
    "These are pre-set to save me having to set them everytime I plot a graph "
   ]
  },
  {
   "cell_type": "code",
   "execution_count": 63,
   "metadata": {},
   "outputs": [],
   "source": [
    "plt.rcParams['text.color'] = 'k'\n",
    "plt.rcParams['axes.labelcolor'] = 'k'\n",
    "plt.rcParams['axes.titleweight'] = 'bold'\n",
    "plt.rcParams['axes.labelweight'] = 'bold'\n",
    "plt.rcParams['axes.grid'] = True\n",
    "plt.rcParams['lines.markersize'] = 5"
   ]
  },
  {
   "cell_type": "markdown",
   "metadata": {},
   "source": [
    "## Load The Data"
   ]
  },
  {
   "cell_type": "markdown",
   "metadata": {},
   "source": [
    "The data is stored as a pickle file, in order to speed up the load time."
   ]
  },
  {
   "cell_type": "code",
   "execution_count": 64,
   "metadata": {},
   "outputs": [],
   "source": [
    "path =  \"../data/raw/df_activities_marathoners_london2015_resampled_100.pkl\"\n",
    "raw_df = pd.read_pickle(path)"
   ]
  },
  {
   "cell_type": "markdown",
   "metadata": {},
   "source": [
    "## Initial Exploration The Data"
   ]
  },
  {
   "cell_type": "markdown",
   "metadata": {},
   "source": [
    "Number of features:"
   ]
  },
  {
   "cell_type": "code",
   "execution_count": 65,
   "metadata": {},
   "outputs": [
    {
     "data": {
      "text/plain": [
       "20"
      ]
     },
     "execution_count": 65,
     "metadata": {},
     "output_type": "execute_result"
    }
   ],
   "source": [
    "len(list(raw_df))"
   ]
  },
  {
   "cell_type": "markdown",
   "metadata": {},
   "source": [
    "Feature names and types:"
   ]
  },
  {
   "cell_type": "code",
   "execution_count": 66,
   "metadata": {},
   "outputs": [
    {
     "data": {
      "text/plain": [
       "hashedid                        object\n",
       "startdate               datetime64[ns]\n",
       "startdatelocal          datetime64[ns]\n",
       "totaldistance                  float64\n",
       "elevgain                       float64\n",
       "hashedathleteid                 object\n",
       "startLatApprox                 float64\n",
       "startLngApprox                 float64\n",
       "race_id                         object\n",
       "distance                        object\n",
       "time                            object\n",
       "elevation                       object\n",
       "cadence                         object\n",
       "heartrate                       object\n",
       "temperature                     object\n",
       "pace_diff                       object\n",
       "pace_cumul                      object\n",
       "gap                             object\n",
       "cumulative_elev_gain           float64\n",
       "cumulative_elev_loss           float64\n",
       "dtype: object"
      ]
     },
     "execution_count": 66,
     "metadata": {},
     "output_type": "execute_result"
    }
   ],
   "source": [
    "raw_df.dtypes"
   ]
  },
  {
   "cell_type": "markdown",
   "metadata": {},
   "source": [
    "Sample of the data:"
   ]
  },
  {
   "cell_type": "code",
   "execution_count": 67,
   "metadata": {},
   "outputs": [
    {
     "data": {
      "text/html": [
       "<div>\n",
       "<style scoped>\n",
       "    .dataframe tbody tr th:only-of-type {\n",
       "        vertical-align: middle;\n",
       "    }\n",
       "\n",
       "    .dataframe tbody tr th {\n",
       "        vertical-align: top;\n",
       "    }\n",
       "\n",
       "    .dataframe thead th {\n",
       "        text-align: right;\n",
       "    }\n",
       "</style>\n",
       "<table border=\"1\" class=\"dataframe\">\n",
       "  <thead>\n",
       "    <tr style=\"text-align: right;\">\n",
       "      <th></th>\n",
       "      <th>hashedid</th>\n",
       "      <th>startdate</th>\n",
       "      <th>startdatelocal</th>\n",
       "      <th>totaldistance</th>\n",
       "      <th>elevgain</th>\n",
       "      <th>hashedathleteid</th>\n",
       "      <th>startLatApprox</th>\n",
       "      <th>startLngApprox</th>\n",
       "      <th>race_id</th>\n",
       "      <th>distance</th>\n",
       "      <th>time</th>\n",
       "      <th>elevation</th>\n",
       "      <th>cadence</th>\n",
       "      <th>heartrate</th>\n",
       "      <th>temperature</th>\n",
       "      <th>pace_diff</th>\n",
       "      <th>pace_cumul</th>\n",
       "      <th>gap</th>\n",
       "      <th>cumulative_elev_gain</th>\n",
       "      <th>cumulative_elev_loss</th>\n",
       "    </tr>\n",
       "  </thead>\n",
       "  <tbody>\n",
       "    <tr>\n",
       "      <th>0</th>\n",
       "      <td>12aea07c8a1856faf1158e108bec658cb8705fdc6f75f6...</td>\n",
       "      <td>2015-02-26 17:27:49</td>\n",
       "      <td>2015-02-26 17:27:49</td>\n",
       "      <td>10077.8</td>\n",
       "      <td>74.840</td>\n",
       "      <td>f815a075063498f6b9ab699895d0ea441efdb1d303cdfb...</td>\n",
       "      <td>51.01</td>\n",
       "      <td>-4.18</td>\n",
       "      <td>None</td>\n",
       "      <td>[0.0, 100.0, 200.0, 300.0, 400.0, 500.0, 600.0...</td>\n",
       "      <td>[0.0, 27.742963076606642, 56.84197005901757, 8...</td>\n",
       "      <td>[60.1, 59.38087237401447, 61.103190595202285, ...</td>\n",
       "      <td>[51.0, 86.94861435757046, 83.78330820278268, 8...</td>\n",
       "      <td>[]</td>\n",
       "      <td>[]</td>\n",
       "      <td>[0.0, 4.565725009842248, 5.163725463526613, 5....</td>\n",
       "      <td>[25.0, 4.625180288330574, 4.737007294338742, 4...</td>\n",
       "      <td>[0.0, 4.3909344852561505, 5.66484025022731, 6....</td>\n",
       "      <td>48.0</td>\n",
       "      <td>52.0</td>\n",
       "    </tr>\n",
       "    <tr>\n",
       "      <th>1</th>\n",
       "      <td>7b1da2b4af9e50d70de7c2e1189e038caedf161ef4d714...</td>\n",
       "      <td>2015-04-12 07:29:55</td>\n",
       "      <td>2015-04-12 08:29:55</td>\n",
       "      <td>28329.9</td>\n",
       "      <td>52.580</td>\n",
       "      <td>f815a075063498f6b9ab699895d0ea441efdb1d303cdfb...</td>\n",
       "      <td>52.21</td>\n",
       "      <td>-2.21</td>\n",
       "      <td>None</td>\n",
       "      <td>[0.0, 100.0, 200.0, 300.0, 400.0, 500.0, 600.0...</td>\n",
       "      <td>[0.0, 26.4476433623938, 52.19675640139761, 81....</td>\n",
       "      <td>[29.6, 29.06802397058123, 27.88620500554118, 2...</td>\n",
       "      <td>[79.0, 90.01989048018399, 89.64745299131216, 8...</td>\n",
       "      <td>[]</td>\n",
       "      <td>[]</td>\n",
       "      <td>[0.0, 4.077226373579731, 4.405336418019176, 5....</td>\n",
       "      <td>[25.0, 4.4065370573842495, 4.350439667142406, ...</td>\n",
       "      <td>[0.0, 3.9612309266417927, 4.131327978589747, 5...</td>\n",
       "      <td>141.0</td>\n",
       "      <td>141.0</td>\n",
       "    </tr>\n",
       "    <tr>\n",
       "      <th>2</th>\n",
       "      <td>d1bdec72c8277a082250afe526c17c533c23cf68e95e18...</td>\n",
       "      <td>2015-07-31 07:05:09</td>\n",
       "      <td>2015-07-31 08:05:09</td>\n",
       "      <td>11295.0</td>\n",
       "      <td>117.217</td>\n",
       "      <td>8641ecb8ba4b406f6368ad8fa0b628a27653da16b09832...</td>\n",
       "      <td>55.94</td>\n",
       "      <td>-3.21</td>\n",
       "      <td>None</td>\n",
       "      <td>[0.0, 100.0, 200.0, 300.0, 400.0, 500.0, 600.0...</td>\n",
       "      <td>[0.0, 24.916730395770433, 66.20842565221908, 9...</td>\n",
       "      <td>[76.80000000000001, 78.0436904845767, 77.99998...</td>\n",
       "      <td>[]</td>\n",
       "      <td>[]</td>\n",
       "      <td>[]</td>\n",
       "      <td>[0.0, -26.640526469629517, 4.707686434720955, ...</td>\n",
       "      <td>[25.0, 3.989977933539666, 5.5206805796203895, ...</td>\n",
       "      <td>[0.0, -28.487582206449368, 4.696553728999139, ...</td>\n",
       "      <td>57.0</td>\n",
       "      <td>59.0</td>\n",
       "    </tr>\n",
       "  </tbody>\n",
       "</table>\n",
       "</div>"
      ],
      "text/plain": [
       "                                            hashedid           startdate  \\\n",
       "0  12aea07c8a1856faf1158e108bec658cb8705fdc6f75f6... 2015-02-26 17:27:49   \n",
       "1  7b1da2b4af9e50d70de7c2e1189e038caedf161ef4d714... 2015-04-12 07:29:55   \n",
       "2  d1bdec72c8277a082250afe526c17c533c23cf68e95e18... 2015-07-31 07:05:09   \n",
       "\n",
       "       startdatelocal  totaldistance  elevgain  \\\n",
       "0 2015-02-26 17:27:49        10077.8    74.840   \n",
       "1 2015-04-12 08:29:55        28329.9    52.580   \n",
       "2 2015-07-31 08:05:09        11295.0   117.217   \n",
       "\n",
       "                                     hashedathleteid  startLatApprox  \\\n",
       "0  f815a075063498f6b9ab699895d0ea441efdb1d303cdfb...           51.01   \n",
       "1  f815a075063498f6b9ab699895d0ea441efdb1d303cdfb...           52.21   \n",
       "2  8641ecb8ba4b406f6368ad8fa0b628a27653da16b09832...           55.94   \n",
       "\n",
       "   startLngApprox race_id                                           distance  \\\n",
       "0           -4.18    None  [0.0, 100.0, 200.0, 300.0, 400.0, 500.0, 600.0...   \n",
       "1           -2.21    None  [0.0, 100.0, 200.0, 300.0, 400.0, 500.0, 600.0...   \n",
       "2           -3.21    None  [0.0, 100.0, 200.0, 300.0, 400.0, 500.0, 600.0...   \n",
       "\n",
       "                                                time  \\\n",
       "0  [0.0, 27.742963076606642, 56.84197005901757, 8...   \n",
       "1  [0.0, 26.4476433623938, 52.19675640139761, 81....   \n",
       "2  [0.0, 24.916730395770433, 66.20842565221908, 9...   \n",
       "\n",
       "                                           elevation  \\\n",
       "0  [60.1, 59.38087237401447, 61.103190595202285, ...   \n",
       "1  [29.6, 29.06802397058123, 27.88620500554118, 2...   \n",
       "2  [76.80000000000001, 78.0436904845767, 77.99998...   \n",
       "\n",
       "                                             cadence heartrate temperature  \\\n",
       "0  [51.0, 86.94861435757046, 83.78330820278268, 8...        []          []   \n",
       "1  [79.0, 90.01989048018399, 89.64745299131216, 8...        []          []   \n",
       "2                                                 []        []          []   \n",
       "\n",
       "                                           pace_diff  \\\n",
       "0  [0.0, 4.565725009842248, 5.163725463526613, 5....   \n",
       "1  [0.0, 4.077226373579731, 4.405336418019176, 5....   \n",
       "2  [0.0, -26.640526469629517, 4.707686434720955, ...   \n",
       "\n",
       "                                          pace_cumul  \\\n",
       "0  [25.0, 4.625180288330574, 4.737007294338742, 4...   \n",
       "1  [25.0, 4.4065370573842495, 4.350439667142406, ...   \n",
       "2  [25.0, 3.989977933539666, 5.5206805796203895, ...   \n",
       "\n",
       "                                                 gap  cumulative_elev_gain  \\\n",
       "0  [0.0, 4.3909344852561505, 5.66484025022731, 6....                  48.0   \n",
       "1  [0.0, 3.9612309266417927, 4.131327978589747, 5...                 141.0   \n",
       "2  [0.0, -28.487582206449368, 4.696553728999139, ...                  57.0   \n",
       "\n",
       "   cumulative_elev_loss  \n",
       "0                  52.0  \n",
       "1                 141.0  \n",
       "2                  59.0  "
      ]
     },
     "execution_count": 67,
     "metadata": {},
     "output_type": "execute_result"
    }
   ],
   "source": [
    "raw_df.head(3)"
   ]
  },
  {
   "cell_type": "markdown",
   "metadata": {},
   "source": [
    "Number of Unique Training Sessions (Rows):"
   ]
  },
  {
   "cell_type": "code",
   "execution_count": 68,
   "metadata": {},
   "outputs": [
    {
     "data": {
      "text/plain": [
       "565720"
      ]
     },
     "execution_count": 68,
     "metadata": {},
     "output_type": "execute_result"
    }
   ],
   "source": [
    "len(raw_df)"
   ]
  },
  {
   "cell_type": "markdown",
   "metadata": {},
   "source": [
    "Number of Unique Athletes (hashedathleteids):"
   ]
  },
  {
   "cell_type": "code",
   "execution_count": 69,
   "metadata": {},
   "outputs": [
    {
     "data": {
      "text/plain": [
       "4487"
      ]
     },
     "execution_count": 69,
     "metadata": {},
     "output_type": "execute_result"
    }
   ],
   "source": [
    "raw_df['hashedathleteid'].nunique()"
   ]
  },
  {
   "cell_type": "markdown",
   "metadata": {},
   "source": [
    "Check for null values"
   ]
  },
  {
   "cell_type": "code",
   "execution_count": 70,
   "metadata": {},
   "outputs": [
    {
     "data": {
      "text/plain": [
       "hashedid                0.0\n",
       "startdate               0.0\n",
       "startdatelocal          0.0\n",
       "totaldistance           0.0\n",
       "elevgain                0.0\n",
       "hashedathleteid         0.0\n",
       "startLatApprox          0.0\n",
       "startLngApprox          0.0\n",
       "race_id                 0.0\n",
       "distance                0.0\n",
       "time                    0.0\n",
       "elevation               0.0\n",
       "cadence                 0.0\n",
       "heartrate               0.0\n",
       "temperature             0.0\n",
       "pace_diff               0.0\n",
       "pace_cumul              0.0\n",
       "gap                     0.0\n",
       "cumulative_elev_gain    0.0\n",
       "cumulative_elev_loss    0.0\n",
       "dtype: float64"
      ]
     },
     "execution_count": 70,
     "metadata": {},
     "output_type": "execute_result"
    }
   ],
   "source": [
    "raw_df[raw_df.isnull()].sum()"
   ]
  },
  {
   "cell_type": "markdown",
   "metadata": {},
   "source": [
    "Although no null values appear to be present here, We could see in the sample of the data that there is a lot of empty arrays which will be useless to us."
   ]
  },
  {
   "cell_type": "markdown",
   "metadata": {},
   "source": [
    "# Create / Modify Columns"
   ]
  },
  {
   "cell_type": "markdown",
   "metadata": {},
   "source": [
    "Here I will create new features from the existing data, and also altered some of the existing data for easier use/understanding (i.e. Change totaldistance from Meters to Kilometers)"
   ]
  },
  {
   "cell_type": "markdown",
   "metadata": {},
   "source": [
    "## Marathon Time in Hours"
   ]
  },
  {
   "cell_type": "markdown",
   "metadata": {},
   "source": [
    "No official marathon finish time was provided in the dataset. Instead we are given a distance and time array for that date. So in order to determine an athletes marathon finish time, I decided to find the element in the athelete's time array which corresponded to the 422 element in the athlete's distance array (42.2km)."
   ]
  },
  {
   "cell_type": "markdown",
   "metadata": {},
   "source": [
    "Step 1: Covert 'startdate' to datetime  "
   ]
  },
  {
   "cell_type": "code",
   "execution_count": 71,
   "metadata": {},
   "outputs": [],
   "source": [
    "raw_df['startdate'] = pd.to_datetime(raw_df.startdate)"
   ]
  },
  {
   "cell_type": "markdown",
   "metadata": {},
   "source": [
    "Step 2: Create new column which will just contain date of session, as start time of session is useless to us. "
   ]
  },
  {
   "cell_type": "code",
   "execution_count": 72,
   "metadata": {},
   "outputs": [],
   "source": [
    "raw_df['date'] = raw_df['startdate'].dt.date\n",
    "raw_df['date'] = pd.to_datetime(raw_df.date)"
   ]
  },
  {
   "cell_type": "markdown",
   "metadata": {},
   "source": [
    "I also created a column called 'day' which stores the name of the weekday which the training was carried out on, this will be used in the analysis session"
   ]
  },
  {
   "cell_type": "code",
   "execution_count": 73,
   "metadata": {},
   "outputs": [],
   "source": [
    "raw_df['day'] = raw_df['date'].dt.weekday_name"
   ]
  },
  {
   "cell_type": "markdown",
   "metadata": {},
   "source": [
    "Step 3: Create a new data frame which conatins the sessions which occurred on the date of the marathon. "
   ]
  },
  {
   "cell_type": "code",
   "execution_count": 74,
   "metadata": {},
   "outputs": [],
   "source": [
    "finishtimes = raw_df[raw_df['date']==\"2015-04-26\"][['hashedathleteid','time']]"
   ]
  },
  {
   "cell_type": "markdown",
   "metadata": {},
   "source": [
    "Step 4: Calculate the marathon finish times of athletes, and store as hours instead of seconds."
   ]
  },
  {
   "cell_type": "code",
   "execution_count": 75,
   "metadata": {},
   "outputs": [],
   "source": [
    "finishtimes['marathon_finish_time'] = finishtimes['time'].str[422]/60/60 "
   ]
  },
  {
   "cell_type": "markdown",
   "metadata": {},
   "source": [
    "Step 5: Create a dictionary which will contain the finish times of each individual athlete"
   ]
  },
  {
   "cell_type": "code",
   "execution_count": 76,
   "metadata": {},
   "outputs": [],
   "source": [
    "finishtimes = finishtimes.set_index('hashedathleteid').drop(['time'], axis=1)\n",
    "finishtimes_dict  = finishtimes.T.squeeze().to_dict()"
   ]
  },
  {
   "cell_type": "markdown",
   "metadata": {},
   "source": [
    "Step 6: Use this dictionary to map the finish times of the athletes to the original dataframe, and store in new column called 'marathon_finish_time'"
   ]
  },
  {
   "cell_type": "code",
   "execution_count": 77,
   "metadata": {},
   "outputs": [],
   "source": [
    "raw_df['marathon_finish_time'] = raw_df['hashedathleteid'].map(finishtimes_dict)"
   ]
  },
  {
   "cell_type": "markdown",
   "metadata": {},
   "source": [
    "Examine some finish times:"
   ]
  },
  {
   "cell_type": "code",
   "execution_count": 78,
   "metadata": {},
   "outputs": [
    {
     "data": {
      "text/plain": [
       "0    3.005180\n",
       "1    3.005180\n",
       "2    3.539893\n",
       "3    3.005180\n",
       "4    3.539893\n",
       "Name: marathon_finish_time, dtype: float64"
      ]
     },
     "execution_count": 78,
     "metadata": {},
     "output_type": "execute_result"
    }
   ],
   "source": [
    "raw_df['marathon_finish_time'].head()"
   ]
  },
  {
   "cell_type": "markdown",
   "metadata": {},
   "source": [
    "Looks good but lets luck at the min and max values:"
   ]
  },
  {
   "cell_type": "code",
   "execution_count": 79,
   "metadata": {},
   "outputs": [
    {
     "name": "stdout",
     "output_type": "stream",
     "text": [
      "Min: -303.9329952239148\n"
     ]
    }
   ],
   "source": [
    "print(\"Min: \" + str(raw_df['marathon_finish_time'].min()))"
   ]
  },
  {
   "cell_type": "code",
   "execution_count": 80,
   "metadata": {},
   "outputs": [
    {
     "name": "stdout",
     "output_type": "stream",
     "text": [
      "Max: 6.6866059902887285\n"
     ]
    }
   ],
   "source": [
    "print(\"Max: \" + str(raw_df['marathon_finish_time'].max()))"
   ]
  },
  {
   "cell_type": "markdown",
   "metadata": {},
   "source": [
    "I will need to filter out any athletes who have invalid finish times"
   ]
  },
  {
   "cell_type": "markdown",
   "metadata": {},
   "source": [
    "## Marathon Speed Of Athletes In km/h"
   ]
  },
  {
   "cell_type": "markdown",
   "metadata": {},
   "source": [
    "I discuss how I opted to use speed instead of pace in my report (pg 6)"
   ]
  },
  {
   "cell_type": "markdown",
   "metadata": {},
   "source": [
    "\\begin{align}\n",
    "Speed & = Distance/Time\n",
    "\\end{align}"
   ]
  },
  {
   "cell_type": "code",
   "execution_count": 81,
   "metadata": {},
   "outputs": [],
   "source": [
    "raw_df['marathon_speed'] = 42.195/raw_df['marathon_finish_time']"
   ]
  },
  {
   "cell_type": "markdown",
   "metadata": {},
   "source": [
    "## Convert totaldistance From Meters to KM"
   ]
  },
  {
   "cell_type": "code",
   "execution_count": 82,
   "metadata": {},
   "outputs": [],
   "source": [
    "raw_df['totaldistance'] = raw_df['totaldistance']/1000"
   ]
  },
  {
   "cell_type": "markdown",
   "metadata": {},
   "source": [
    "Examine:"
   ]
  },
  {
   "cell_type": "code",
   "execution_count": 83,
   "metadata": {},
   "outputs": [
    {
     "data": {
      "text/plain": [
       "0    10.0778\n",
       "1    28.3299\n",
       "2    11.2950\n",
       "3    22.9694\n",
       "4    10.3318\n",
       "Name: totaldistance, dtype: float64"
      ]
     },
     "execution_count": 83,
     "metadata": {},
     "output_type": "execute_result"
    }
   ],
   "source": [
    "raw_df['totaldistance'].head()"
   ]
  },
  {
   "cell_type": "code",
   "execution_count": 84,
   "metadata": {},
   "outputs": [
    {
     "name": "stdout",
     "output_type": "stream",
     "text": [
      "Min: 0.0\n"
     ]
    }
   ],
   "source": [
    "print(\"Min: \" + str(raw_df['totaldistance'].min()))"
   ]
  },
  {
   "cell_type": "code",
   "execution_count": 85,
   "metadata": {},
   "outputs": [
    {
     "name": "stdout",
     "output_type": "stream",
     "text": [
      "Max: 1651.02\n"
     ]
    }
   ],
   "source": [
    "print(\"Max: \" + str(raw_df['totaldistance'].max()))"
   ]
  },
  {
   "cell_type": "markdown",
   "metadata": {},
   "source": [
    "Again I will need to filter out atheletes with suspicious distances"
   ]
  },
  {
   "cell_type": "markdown",
   "metadata": {},
   "source": [
    "## Convert Total Session Time From Seconds To Minutes"
   ]
  },
  {
   "cell_type": "code",
   "execution_count": 86,
   "metadata": {},
   "outputs": [],
   "source": [
    "raw_df['session_time'] = raw_df['time'].str[-1]/60"
   ]
  },
  {
   "cell_type": "markdown",
   "metadata": {},
   "source": [
    "Examine:"
   ]
  },
  {
   "cell_type": "code",
   "execution_count": 87,
   "metadata": {},
   "outputs": [
    {
     "data": {
      "text/plain": [
       "0     50.000753\n",
       "1    126.120841\n",
       "2     67.707179\n",
       "3     98.932168\n",
       "4     53.738767\n",
       "Name: session_time, dtype: float64"
      ]
     },
     "execution_count": 87,
     "metadata": {},
     "output_type": "execute_result"
    }
   ],
   "source": [
    "raw_df['session_time'].head()"
   ]
  },
  {
   "cell_type": "code",
   "execution_count": 88,
   "metadata": {},
   "outputs": [
    {
     "name": "stdout",
     "output_type": "stream",
     "text": [
      "Min: -21109.96233469645\n"
     ]
    }
   ],
   "source": [
    "print(\"Min: \" + str(raw_df['session_time'].min()))"
   ]
  },
  {
   "cell_type": "code",
   "execution_count": 89,
   "metadata": {},
   "outputs": [
    {
     "name": "stdout",
     "output_type": "stream",
     "text": [
      "Max: 1144201.2389257073\n"
     ]
    }
   ],
   "source": [
    "print(\"Max: \" + str(raw_df['session_time'].max()))"
   ]
  },
  {
   "cell_type": "markdown",
   "metadata": {},
   "source": [
    "Filtering out of athletes with suspicious times needed"
   ]
  },
  {
   "cell_type": "markdown",
   "metadata": {},
   "source": [
    "## Calculate Session Speed (KM/H)"
   ]
  },
  {
   "cell_type": "code",
   "execution_count": 90,
   "metadata": {},
   "outputs": [],
   "source": [
    "raw_df['session_speed'] = (raw_df['totaldistance']/(raw_df['session_time']/60))"
   ]
  },
  {
   "cell_type": "markdown",
   "metadata": {},
   "source": [
    "Examine:"
   ]
  },
  {
   "cell_type": "code",
   "execution_count": 91,
   "metadata": {},
   "outputs": [
    {
     "data": {
      "text/plain": [
       "0    12.093178\n",
       "1    13.477503\n",
       "2    10.009278\n",
       "3    13.930393\n",
       "4    11.535583\n",
       "Name: session_speed, dtype: float64"
      ]
     },
     "execution_count": 91,
     "metadata": {},
     "output_type": "execute_result"
    }
   ],
   "source": [
    "raw_df['session_speed'].head()"
   ]
  },
  {
   "cell_type": "code",
   "execution_count": 92,
   "metadata": {},
   "outputs": [
    {
     "name": "stdout",
     "output_type": "stream",
     "text": [
      "Min: -87.45028526282879\n"
     ]
    }
   ],
   "source": [
    "print(\"Min: \" + str(raw_df['session_speed'].min()))"
   ]
  },
  {
   "cell_type": "code",
   "execution_count": 93,
   "metadata": {},
   "outputs": [
    {
     "name": "stdout",
     "output_type": "stream",
     "text": [
      "Max: inf\n"
     ]
    }
   ],
   "source": [
    "print(\"Max: \" + str(raw_df['session_speed'].max()))"
   ]
  },
  {
   "cell_type": "markdown",
   "metadata": {},
   "source": [
    "Filtering required"
   ]
  },
  {
   "cell_type": "markdown",
   "metadata": {},
   "source": [
    "# Clean The Data"
   ]
  },
  {
   "cell_type": "markdown",
   "metadata": {},
   "source": [
    "We have seen that the data requires suffiecent cleaning before I can proceed with it. I must make sure that only athletes who 'legally' recorded their sessions (i.e nobody who used a bike or car), are included within the cleaned dataset.    "
   ]
  },
  {
   "cell_type": "markdown",
   "metadata": {},
   "source": [
    "## Drop Columns (Which Won't Be Used In Project)"
   ]
  },
  {
   "cell_type": "code",
   "execution_count": 94,
   "metadata": {},
   "outputs": [],
   "source": [
    "raw_df = raw_df[['hashedid','hashedathleteid','date','day','elevgain','session_speed','totaldistance','session_time',\n",
    "                 'marathon_finish_time','marathon_speed']]"
   ]
  },
  {
   "cell_type": "markdown",
   "metadata": {},
   "source": [
    "Remaining number of sessions:"
   ]
  },
  {
   "cell_type": "code",
   "execution_count": 95,
   "metadata": {},
   "outputs": [
    {
     "data": {
      "text/plain": [
       "565720"
      ]
     },
     "execution_count": 95,
     "metadata": {},
     "output_type": "execute_result"
    }
   ],
   "source": [
    "len(raw_df)"
   ]
  },
  {
   "cell_type": "markdown",
   "metadata": {},
   "source": [
    "## Deal with runners who ran more than once in one day."
   ]
  },
  {
   "cell_type": "markdown",
   "metadata": {},
   "source": [
    "Since time series can only store one value at each data point, I must join sessions carried out by the same athletes, if they complete multiple sessions on the same day. I will take the sum of the distances, and the mean value for their speed."
   ]
  },
  {
   "cell_type": "code",
   "execution_count": 97,
   "metadata": {},
   "outputs": [],
   "source": [
    "ag = {'hashedid':'first','elevgain':'sum','session_speed':'mean','totaldistance':'sum','session_time':'sum'}\n",
    "raw_df = (raw_df.groupby(['hashedathleteid','date','day','marathon_finish_time','marathon_speed'], sort=False, as_index=False)\n",
    "        .agg(ag)\n",
    "        .reindex(columns=raw_df.columns))"
   ]
  },
  {
   "cell_type": "markdown",
   "metadata": {},
   "source": [
    "Remaining number of unique sessions:"
   ]
  },
  {
   "cell_type": "code",
   "execution_count": 98,
   "metadata": {},
   "outputs": [
    {
     "data": {
      "text/plain": [
       "439104"
      ]
     },
     "execution_count": 98,
     "metadata": {},
     "output_type": "execute_result"
    }
   ],
   "source": [
    "len(raw_df)"
   ]
  },
  {
   "cell_type": "markdown",
   "metadata": {},
   "source": [
    "Remaining number of individual athletes:"
   ]
  },
  {
   "cell_type": "code",
   "execution_count": 99,
   "metadata": {},
   "outputs": [
    {
     "data": {
      "text/plain": [
       "4261"
      ]
     },
     "execution_count": 99,
     "metadata": {},
     "output_type": "execute_result"
    }
   ],
   "source": [
    "raw_df['hashedathleteid'].nunique()"
   ]
  },
  {
   "cell_type": "markdown",
   "metadata": {},
   "source": [
    "## Plot Session (Distance vs Speed), To Show Extent Of Cleaning Needed"
   ]
  },
  {
   "cell_type": "code",
   "execution_count": 100,
   "metadata": {},
   "outputs": [
    {
     "data": {
      "image/png": "[encoded data removed]",
      "text/plain": [
       "<Figure size 720x720 with 1 Axes>"
      ]
     },
     "metadata": {
      "needs_background": "light"
     },
     "output_type": "display_data"
    }
   ],
   "source": [
    "plt.figure(figsize=(10,10))\n",
    "plt.scatter(data=raw_df, x='totaldistance', y='session_speed')\n",
    "plt.title('Training Sessions',size=20)\n",
    "plt.xlabel('Distance',size=15)\n",
    "plt.ylabel('Speed',size=15)\n",
    "plt.show()"
   ]
  },
  {
   "cell_type": "markdown",
   "metadata": {},
   "source": [
    "## Filter Out Sessions Completed Outside Of The Training Period"
   ]
  },
  {
   "cell_type": "markdown",
   "metadata": {},
   "source": [
    "The 'Training Period' is the 15 weeks leading up to the marathon. "
   ]
  },
  {
   "cell_type": "code",
   "execution_count": 101,
   "metadata": {},
   "outputs": [],
   "source": [
    "raw_df = raw_df[raw_df['date']>=\"2015-01-11\"] \n",
    "raw_df = raw_df[raw_df['date']<\"2015-04-26\"]"
   ]
  },
  {
   "cell_type": "markdown",
   "metadata": {},
   "source": [
    "Remaining number of unique sessions:"
   ]
  },
  {
   "cell_type": "code",
   "execution_count": 102,
   "metadata": {},
   "outputs": [
    {
     "data": {
      "text/plain": [
       "166917"
      ]
     },
     "execution_count": 102,
     "metadata": {},
     "output_type": "execute_result"
    }
   ],
   "source": [
    "len(raw_df) "
   ]
  },
  {
   "cell_type": "markdown",
   "metadata": {},
   "source": [
    "Remaining number of individual athletes:"
   ]
  },
  {
   "cell_type": "code",
   "execution_count": 103,
   "metadata": {},
   "outputs": [
    {
     "data": {
      "text/plain": [
       "4188"
      ]
     },
     "execution_count": 103,
     "metadata": {},
     "output_type": "execute_result"
    }
   ],
   "source": [
    "raw_df['hashedathleteid'].nunique()"
   ]
  },
  {
   "cell_type": "markdown",
   "metadata": {},
   "source": [
    "## Remove Athletes With Invalid Marathon Finish Time"
   ]
  },
  {
   "cell_type": "code",
   "execution_count": 104,
   "metadata": {},
   "outputs": [],
   "source": [
    "raw_df = raw_df[raw_df['marathon_finish_time'].notnull()]"
   ]
  },
  {
   "cell_type": "code",
   "execution_count": 105,
   "metadata": {},
   "outputs": [],
   "source": [
    "raw_df = raw_df[raw_df['marathon_finish_time']>=2.000736] \n",
    "#Winning Time of Marathon, recorded by Eliud Kipchoge. "
   ]
  },
  {
   "cell_type": "markdown",
   "metadata": {},
   "source": [
    "Examine:"
   ]
  },
  {
   "cell_type": "code",
   "execution_count": 106,
   "metadata": {},
   "outputs": [
    {
     "data": {
      "text/plain": [
       "2.246167195687637"
      ]
     },
     "execution_count": 106,
     "metadata": {},
     "output_type": "execute_result"
    }
   ],
   "source": [
    "raw_df['marathon_finish_time'].min()"
   ]
  },
  {
   "cell_type": "code",
   "execution_count": 107,
   "metadata": {},
   "outputs": [
    {
     "data": {
      "text/plain": [
       "6.6866059902887285"
      ]
     },
     "execution_count": 107,
     "metadata": {},
     "output_type": "execute_result"
    }
   ],
   "source": [
    "raw_df['marathon_finish_time'].max()"
   ]
  },
  {
   "cell_type": "code",
   "execution_count": 108,
   "metadata": {},
   "outputs": [
    {
     "data": {
      "text/plain": [
       "<matplotlib.axes._subplots.AxesSubplot at 0x7f5d1db80b38>"
      ]
     },
     "execution_count": 108,
     "metadata": {},
     "output_type": "execute_result"
    },
    {
     "data": {
      "image/png": "[encoded data removed]",
      "text/plain": [
       "<Figure size 432x288 with 1 Axes>"
      ]
     },
     "metadata": {
      "needs_background": "light"
     },
     "output_type": "display_data"
    }
   ],
   "source": [
    "raw_df['marathon_finish_time'].hist()"
   ]
  },
  {
   "cell_type": "markdown",
   "metadata": {},
   "source": [
    "Remaining number of unique sessions:"
   ]
  },
  {
   "cell_type": "code",
   "execution_count": 109,
   "metadata": {},
   "outputs": [
    {
     "data": {
      "text/plain": [
       "166883"
      ]
     },
     "execution_count": 109,
     "metadata": {},
     "output_type": "execute_result"
    }
   ],
   "source": [
    "len(raw_df)"
   ]
  },
  {
   "cell_type": "markdown",
   "metadata": {},
   "source": [
    "Remaining number of individual athletes:"
   ]
  },
  {
   "cell_type": "code",
   "execution_count": 110,
   "metadata": {},
   "outputs": [
    {
     "data": {
      "text/plain": [
       "4187"
      ]
     },
     "execution_count": 110,
     "metadata": {},
     "output_type": "execute_result"
    }
   ],
   "source": [
    "raw_df['hashedathleteid'].nunique()"
   ]
  },
  {
   "cell_type": "markdown",
   "metadata": {},
   "source": [
    "Note: I have decided that it is best to remove athletes who have any suspicious training sessions totally from my dataset, rather than just filtering out the suspicious sessions. "
   ]
  },
  {
   "cell_type": "markdown",
   "metadata": {},
   "source": [
    "## Remove All Athletes Who Have An Invalid Average Speed In Any Of Their Sessions."
   ]
  },
  {
   "cell_type": "code",
   "execution_count": 111,
   "metadata": {},
   "outputs": [],
   "source": [
    "raw_df['session_speed'] = raw_df['session_speed'].replace([np.inf, -np.inf], np.nan)"
   ]
  },
  {
   "cell_type": "code",
   "execution_count": 112,
   "metadata": {},
   "outputs": [],
   "source": [
    "athletes_with_nan_values = raw_df[raw_df['session_speed'].isnull()]['hashedathleteid'].unique()"
   ]
  },
  {
   "cell_type": "code",
   "execution_count": 113,
   "metadata": {},
   "outputs": [],
   "source": [
    "raw_df = raw_df[~raw_df['hashedathleteid'].squeeze().isin(athletes_with_nan_values)]"
   ]
  },
  {
   "cell_type": "code",
   "execution_count": 114,
   "metadata": {},
   "outputs": [],
   "source": [
    "raw_df = raw_df.groupby('hashedathleteid').filter(lambda x: min(x.session_speed)>0)"
   ]
  },
  {
   "cell_type": "code",
   "execution_count": 115,
   "metadata": {},
   "outputs": [],
   "source": [
    "raw_df = raw_df.groupby('hashedathleteid').filter(lambda x: max(x.session_speed)<=44.64) \n",
    "#Usain Bolts top speed & below regional road speed limit"
   ]
  },
  {
   "cell_type": "markdown",
   "metadata": {},
   "source": [
    "Examine:"
   ]
  },
  {
   "cell_type": "code",
   "execution_count": 116,
   "metadata": {},
   "outputs": [
    {
     "data": {
      "text/plain": [
       "11.156957781645668"
      ]
     },
     "execution_count": 116,
     "metadata": {},
     "output_type": "execute_result"
    }
   ],
   "source": [
    "raw_df['session_speed'].mean()"
   ]
  },
  {
   "cell_type": "code",
   "execution_count": 117,
   "metadata": {},
   "outputs": [
    {
     "data": {
      "text/plain": [
       "43.35848608562437"
      ]
     },
     "execution_count": 117,
     "metadata": {},
     "output_type": "execute_result"
    }
   ],
   "source": [
    "raw_df['session_speed'].max()"
   ]
  },
  {
   "cell_type": "code",
   "execution_count": 118,
   "metadata": {},
   "outputs": [
    {
     "data": {
      "text/plain": [
       "<matplotlib.axes._subplots.AxesSubplot at 0x7f5d1db749b0>"
      ]
     },
     "execution_count": 118,
     "metadata": {},
     "output_type": "execute_result"
    },
    {
     "data": {
      "image/png": "[encoded data removed]",
      "text/plain": [
       "<Figure size 432x288 with 1 Axes>"
      ]
     },
     "metadata": {
      "needs_background": "light"
     },
     "output_type": "display_data"
    }
   ],
   "source": [
    "raw_df['session_speed'].hist()"
   ]
  },
  {
   "cell_type": "markdown",
   "metadata": {},
   "source": [
    "Note: Further filtering will be carried out below, using world record times"
   ]
  },
  {
   "cell_type": "markdown",
   "metadata": {},
   "source": [
    "Remaining number of unique sessions:"
   ]
  },
  {
   "cell_type": "code",
   "execution_count": 119,
   "metadata": {},
   "outputs": [
    {
     "data": {
      "text/plain": [
       "149625"
      ]
     },
     "execution_count": 119,
     "metadata": {},
     "output_type": "execute_result"
    }
   ],
   "source": [
    "len(raw_df)"
   ]
  },
  {
   "cell_type": "markdown",
   "metadata": {},
   "source": [
    "Remaining number of individual athletes:"
   ]
  },
  {
   "cell_type": "code",
   "execution_count": 120,
   "metadata": {},
   "outputs": [
    {
     "data": {
      "text/plain": [
       "3790"
      ]
     },
     "execution_count": 120,
     "metadata": {},
     "output_type": "execute_result"
    }
   ],
   "source": [
    "raw_df['hashedathleteid'].nunique()"
   ]
  },
  {
   "cell_type": "markdown",
   "metadata": {},
   "source": [
    "## Remove All Athletes Who Have An Suspicious Distance Travelled In Any Of Their Sessions."
   ]
  },
  {
   "cell_type": "markdown",
   "metadata": {},
   "source": [
    "Remove any athletes with a sub zero speed"
   ]
  },
  {
   "cell_type": "code",
   "execution_count": 121,
   "metadata": {},
   "outputs": [],
   "source": [
    "raw_df = raw_df.groupby('hashedathleteid').filter(lambda x: min(x.totaldistance)>=0)"
   ]
  },
  {
   "cell_type": "markdown",
   "metadata": {},
   "source": [
    "Only consider sessions with speed greater than zero."
   ]
  },
  {
   "cell_type": "code",
   "execution_count": 122,
   "metadata": {},
   "outputs": [],
   "source": [
    "raw_df = raw_df[raw_df.totaldistance>0]"
   ]
  },
  {
   "cell_type": "code",
   "execution_count": 123,
   "metadata": {},
   "outputs": [
    {
     "data": {
      "text/plain": [
       "<matplotlib.axes._subplots.AxesSubplot at 0x7f5c1395be48>"
      ]
     },
     "execution_count": 123,
     "metadata": {},
     "output_type": "execute_result"
    },
    {
     "data": {
      "image/png": "[encoded data removed]",
      "text/plain": [
       "<Figure size 432x288 with 1 Axes>"
      ]
     },
     "metadata": {
      "needs_background": "light"
     },
     "output_type": "display_data"
    }
   ],
   "source": [
    "raw_df.totaldistance.hist()"
   ]
  },
  {
   "cell_type": "code",
   "execution_count": 124,
   "metadata": {},
   "outputs": [],
   "source": [
    "raw_df = raw_df.groupby('hashedathleteid').filter(lambda x: max(x.totaldistance)<100)"
   ]
  },
  {
   "cell_type": "code",
   "execution_count": 125,
   "metadata": {},
   "outputs": [
    {
     "data": {
      "text/plain": [
       "<matplotlib.axes._subplots.AxesSubplot at 0x7f5d3b516198>"
      ]
     },
     "execution_count": 125,
     "metadata": {},
     "output_type": "execute_result"
    },
    {
     "data": {
      "image/png": "[encoded data removed]",
      "text/plain": [
       "<Figure size 432x288 with 1 Axes>"
      ]
     },
     "metadata": {
      "needs_background": "light"
     },
     "output_type": "display_data"
    }
   ],
   "source": [
    "raw_df.totaldistance.hist()"
   ]
  },
  {
   "cell_type": "markdown",
   "metadata": {},
   "source": [
    "Further filtering required"
   ]
  },
  {
   "cell_type": "code",
   "execution_count": 126,
   "metadata": {},
   "outputs": [
    {
     "data": {
      "text/plain": [
       "133"
      ]
     },
     "execution_count": 126,
     "metadata": {},
     "output_type": "execute_result"
    }
   ],
   "source": [
    "len(raw_df[raw_df['totaldistance']>63.2925]) ## Marathon Distance * 1.5"
   ]
  },
  {
   "cell_type": "code",
   "execution_count": 127,
   "metadata": {},
   "outputs": [],
   "source": [
    "raw_df = raw_df.groupby('hashedathleteid').filter(lambda x: max(x.totaldistance)<=63.2925) ## Marathon Distance * 1.5"
   ]
  },
  {
   "cell_type": "code",
   "execution_count": 128,
   "metadata": {},
   "outputs": [
    {
     "data": {
      "text/plain": [
       "<matplotlib.axes._subplots.AxesSubplot at 0x7f5d3b52ccf8>"
      ]
     },
     "execution_count": 128,
     "metadata": {},
     "output_type": "execute_result"
    },
    {
     "data": {
      "image/png": "[encoded data removed]",
      "text/plain": [
       "<Figure size 432x288 with 1 Axes>"
      ]
     },
     "metadata": {
      "needs_background": "light"
     },
     "output_type": "display_data"
    }
   ],
   "source": [
    "raw_df.totaldistance.hist()"
   ]
  },
  {
   "cell_type": "markdown",
   "metadata": {},
   "source": [
    "Remaining number of unique sessions:"
   ]
  },
  {
   "cell_type": "code",
   "execution_count": 129,
   "metadata": {},
   "outputs": [
    {
     "data": {
      "text/plain": [
       "144607"
      ]
     },
     "execution_count": 129,
     "metadata": {},
     "output_type": "execute_result"
    }
   ],
   "source": [
    "len(raw_df)"
   ]
  },
  {
   "cell_type": "markdown",
   "metadata": {},
   "source": [
    "Remaining number of individual athletes:"
   ]
  },
  {
   "cell_type": "code",
   "execution_count": 130,
   "metadata": {},
   "outputs": [
    {
     "data": {
      "text/plain": [
       "3675"
      ]
     },
     "execution_count": 130,
     "metadata": {},
     "output_type": "execute_result"
    }
   ],
   "source": [
    "raw_df['hashedathleteid'].nunique()"
   ]
  },
  {
   "cell_type": "markdown",
   "metadata": {},
   "source": [
    "## Filter Using Combinations Of Both Distance And Speed (World Records)"
   ]
  },
  {
   "cell_type": "markdown",
   "metadata": {},
   "source": [
    "Here I will use world records to filter out athletes with invalid sessions"
   ]
  },
  {
   "cell_type": "markdown",
   "metadata": {},
   "source": [
    "100m world record (Usain Bolt):"
   ]
  },
  {
   "cell_type": "code",
   "execution_count": 131,
   "metadata": {},
   "outputs": [],
   "source": [
    "invalid_session1 = raw_df[(raw_df['totaldistance']>0.1) & (raw_df['session_speed']>=37.58)]['hashedathleteid'].unique()"
   ]
  },
  {
   "cell_type": "code",
   "execution_count": 132,
   "metadata": {},
   "outputs": [],
   "source": [
    "raw_df = raw_df[~raw_df['hashedathleteid'].squeeze().isin(invalid_session1)]"
   ]
  },
  {
   "cell_type": "markdown",
   "metadata": {},
   "source": [
    "1k world record:"
   ]
  },
  {
   "cell_type": "code",
   "execution_count": 133,
   "metadata": {},
   "outputs": [],
   "source": [
    "invalid_session2 = raw_df[(raw_df['totaldistance']>=1) & (raw_df['session_speed']>=28.3072278)]['hashedathleteid'].unique()"
   ]
  },
  {
   "cell_type": "code",
   "execution_count": 134,
   "metadata": {},
   "outputs": [],
   "source": [
    "raw_df = raw_df[~raw_df['hashedathleteid'].squeeze().isin(invalid_session2)]"
   ]
  },
  {
   "cell_type": "markdown",
   "metadata": {},
   "source": [
    "5k world record:"
   ]
  },
  {
   "cell_type": "code",
   "execution_count": 135,
   "metadata": {},
   "outputs": [],
   "source": [
    "invalid_session3 = raw_df[(raw_df['totaldistance']>=5) & (raw_df['session_speed']>=24.2453631)]['hashedathleteid'].unique()"
   ]
  },
  {
   "cell_type": "code",
   "execution_count": 136,
   "metadata": {},
   "outputs": [],
   "source": [
    "raw_df = raw_df[~raw_df['hashedathleteid'].squeeze().isin(invalid_session3)]"
   ]
  },
  {
   "cell_type": "markdown",
   "metadata": {},
   "source": [
    "10k world record:"
   ]
  },
  {
   "cell_type": "code",
   "execution_count": 137,
   "metadata": {},
   "outputs": [],
   "source": [
    "invalid_session4 = raw_df[(raw_df['totaldistance']>=10) & (raw_df['session_speed']>=22.9223734)]['hashedathleteid'].unique()"
   ]
  },
  {
   "cell_type": "code",
   "execution_count": 138,
   "metadata": {},
   "outputs": [],
   "source": [
    "raw_df = raw_df[~raw_df['hashedathleteid'].squeeze().isin(invalid_session4)]"
   ]
  },
  {
   "cell_type": "markdown",
   "metadata": {},
   "source": [
    "Marathon world record:"
   ]
  },
  {
   "cell_type": "code",
   "execution_count": 139,
   "metadata": {},
   "outputs": [],
   "source": [
    "invalid_session5 = raw_df[(raw_df['totaldistance']>=42.195) & (raw_df['session_speed']>=21.0975)]['hashedathleteid'].unique()"
   ]
  },
  {
   "cell_type": "code",
   "execution_count": 140,
   "metadata": {},
   "outputs": [],
   "source": [
    "raw_df = raw_df[~raw_df['hashedathleteid'].squeeze().isin(invalid_session5)]"
   ]
  },
  {
   "cell_type": "markdown",
   "metadata": {},
   "source": [
    "Number of individual sessions remaining:"
   ]
  },
  {
   "cell_type": "code",
   "execution_count": 141,
   "metadata": {},
   "outputs": [
    {
     "data": {
      "text/plain": [
       "142972"
      ]
     },
     "execution_count": 141,
     "metadata": {},
     "output_type": "execute_result"
    }
   ],
   "source": [
    "len(raw_df)"
   ]
  },
  {
   "cell_type": "markdown",
   "metadata": {},
   "source": [
    "Number of unique athletes remaining:"
   ]
  },
  {
   "cell_type": "code",
   "execution_count": 142,
   "metadata": {},
   "outputs": [
    {
     "data": {
      "text/plain": [
       "3633"
      ]
     },
     "execution_count": 142,
     "metadata": {},
     "output_type": "execute_result"
    }
   ],
   "source": [
    "raw_df['hashedathleteid'].nunique()"
   ]
  },
  {
   "cell_type": "markdown",
   "metadata": {},
   "source": [
    "## Filter Out Overly Long Session Times "
   ]
  },
  {
   "cell_type": "code",
   "execution_count": 143,
   "metadata": {},
   "outputs": [],
   "source": [
    "raw_df = raw_df.groupby('hashedathleteid').filter(lambda x: max(x.session_time)<=420) #7 hours"
   ]
  },
  {
   "cell_type": "markdown",
   "metadata": {},
   "source": [
    "Number of individual sessions remaining:"
   ]
  },
  {
   "cell_type": "code",
   "execution_count": 144,
   "metadata": {},
   "outputs": [
    {
     "data": {
      "text/plain": [
       "133996"
      ]
     },
     "execution_count": 144,
     "metadata": {},
     "output_type": "execute_result"
    }
   ],
   "source": [
    "len(raw_df)"
   ]
  },
  {
   "cell_type": "markdown",
   "metadata": {},
   "source": [
    "Number of unique athletes remaining:"
   ]
  },
  {
   "cell_type": "code",
   "execution_count": 80,
   "metadata": {},
   "outputs": [
    {
     "data": {
      "text/plain": [
       "3414"
      ]
     },
     "execution_count": 80,
     "metadata": {},
     "output_type": "execute_result"
    }
   ],
   "source": [
    "raw_df['hashedathleteid'].nunique()"
   ]
  },
  {
   "cell_type": "markdown",
   "metadata": {},
   "source": [
    "## Filter Out Any Athletes Who Have Suspiciously HIGH/LOW Elevation Gains In Any Of Their Sessions"
   ]
  },
  {
   "cell_type": "code",
   "execution_count": 81,
   "metadata": {},
   "outputs": [],
   "source": [
    "raw_df = raw_df.groupby('hashedathleteid').filter(lambda x: max(x.elevgain)<1345)\n",
    "#Ben Nevis Hieght, highest peak in the UK"
   ]
  },
  {
   "cell_type": "code",
   "execution_count": 82,
   "metadata": {},
   "outputs": [],
   "source": [
    "raw_df = raw_df.groupby('hashedathleteid').filter(lambda x: min(x.elevgain)>(-1345))"
   ]
  },
  {
   "cell_type": "code",
   "execution_count": 83,
   "metadata": {},
   "outputs": [
    {
     "data": {
      "text/plain": [
       "<matplotlib.axes._subplots.AxesSubplot at 0x7f08c9983da0>"
      ]
     },
     "execution_count": 83,
     "metadata": {},
     "output_type": "execute_result"
    },
    {
     "data": {
      "image/png": "[encoded data removed]",
      "text/plain": [
       "<Figure size 432x288 with 1 Axes>"
      ]
     },
     "metadata": {
      "needs_background": "light"
     },
     "output_type": "display_data"
    }
   ],
   "source": [
    "raw_df['elevgain'].hist()"
   ]
  },
  {
   "cell_type": "markdown",
   "metadata": {},
   "source": [
    "Number of individual sessions remaining:"
   ]
  },
  {
   "cell_type": "code",
   "execution_count": 84,
   "metadata": {},
   "outputs": [
    {
     "data": {
      "text/plain": [
       "131273"
      ]
     },
     "execution_count": 84,
     "metadata": {},
     "output_type": "execute_result"
    }
   ],
   "source": [
    "len(raw_df)"
   ]
  },
  {
   "cell_type": "markdown",
   "metadata": {},
   "source": [
    "Number of unique athletes remaining:"
   ]
  },
  {
   "cell_type": "code",
   "execution_count": 85,
   "metadata": {},
   "outputs": [
    {
     "data": {
      "text/plain": [
       "3354"
      ]
     },
     "execution_count": 85,
     "metadata": {},
     "output_type": "execute_result"
    }
   ],
   "source": [
    "raw_df['hashedathleteid'].nunique()"
   ]
  },
  {
   "cell_type": "markdown",
   "metadata": {},
   "source": [
    "## Filter Out Athletes Who Just Did 1 Session "
   ]
  },
  {
   "cell_type": "code",
   "execution_count": 86,
   "metadata": {},
   "outputs": [],
   "source": [
    "raw_df = raw_df.groupby('hashedathleteid').filter(lambda x: len(x) > 1)"
   ]
  },
  {
   "cell_type": "markdown",
   "metadata": {},
   "source": [
    "Number of individual sessions remaining:"
   ]
  },
  {
   "cell_type": "code",
   "execution_count": null,
   "metadata": {},
   "outputs": [],
   "source": [
    "len(raw_df)"
   ]
  },
  {
   "cell_type": "markdown",
   "metadata": {},
   "source": [
    "Number of unique athletes remaining:"
   ]
  },
  {
   "cell_type": "code",
   "execution_count": null,
   "metadata": {},
   "outputs": [],
   "source": [
    "raw_df['hashedathleteid'].nunique()"
   ]
  },
  {
   "cell_type": "markdown",
   "metadata": {},
   "source": [
    "## Plot Remaining Session"
   ]
  },
  {
   "cell_type": "markdown",
   "metadata": {},
   "source": [
    "To See If There Is Anymore Obvious Outliers left."
   ]
  },
  {
   "cell_type": "code",
   "execution_count": 133,
   "metadata": {},
   "outputs": [
    {
     "data": {
      "image/png": "[encoded data removed]",
      "text/plain": [
       "<Figure size 720x720 with 1 Axes>"
      ]
     },
     "metadata": {
      "needs_background": "light"
     },
     "output_type": "display_data"
    }
   ],
   "source": [
    "plt.figure(figsize=(10,10))\n",
    "plt.scatter(data=raw_df, x='totaldistance', y='session_speed')\n",
    "plt.title('Training Sessions',size=20)\n",
    "plt.xlabel('Distance',size=15)\n",
    "plt.ylabel('Speed',size=15)\n",
    "plt.show()"
   ]
  },
  {
   "cell_type": "code",
   "execution_count": 88,
   "metadata": {},
   "outputs": [
    {
     "data": {
      "text/plain": [
       "63.2549"
      ]
     },
     "execution_count": 88,
     "metadata": {},
     "output_type": "execute_result"
    }
   ],
   "source": [
    "raw_df['totaldistance'].max()"
   ]
  },
  {
   "cell_type": "code",
   "execution_count": 89,
   "metadata": {},
   "outputs": [
    {
     "data": {
      "text/plain": [
       "28.859842270160627"
      ]
     },
     "execution_count": 89,
     "metadata": {},
     "output_type": "execute_result"
    }
   ],
   "source": [
    "raw_df['session_speed'].max()"
   ]
  },
  {
   "cell_type": "markdown",
   "metadata": {},
   "source": [
    "Individual sessions remaining:"
   ]
  },
  {
   "cell_type": "code",
   "execution_count": 90,
   "metadata": {},
   "outputs": [
    {
     "data": {
      "text/plain": [
       "131230"
      ]
     },
     "execution_count": 90,
     "metadata": {},
     "output_type": "execute_result"
    }
   ],
   "source": [
    "len(raw_df)"
   ]
  },
  {
   "cell_type": "markdown",
   "metadata": {},
   "source": [
    "Nuber of unique athletes remaining:"
   ]
  },
  {
   "cell_type": "code",
   "execution_count": 91,
   "metadata": {},
   "outputs": [
    {
     "data": {
      "text/plain": [
       "3311"
      ]
     },
     "execution_count": 91,
     "metadata": {},
     "output_type": "execute_result"
    }
   ],
   "source": [
    "raw_df['hashedathleteid'].nunique()"
   ]
  },
  {
   "cell_type": "code",
   "execution_count": 92,
   "metadata": {},
   "outputs": [],
   "source": [
    "raw_df = raw_df.reset_index(drop=True)"
   ]
  },
  {
   "cell_type": "code",
   "execution_count": 93,
   "metadata": {},
   "outputs": [
    {
     "data": {
      "text/html": [
       "<div>\n",
       "<style scoped>\n",
       "    .dataframe tbody tr th:only-of-type {\n",
       "        vertical-align: middle;\n",
       "    }\n",
       "\n",
       "    .dataframe tbody tr th {\n",
       "        vertical-align: top;\n",
       "    }\n",
       "\n",
       "    .dataframe thead th {\n",
       "        text-align: right;\n",
       "    }\n",
       "</style>\n",
       "<table border=\"1\" class=\"dataframe\">\n",
       "  <thead>\n",
       "    <tr style=\"text-align: right;\">\n",
       "      <th></th>\n",
       "      <th>hashedid</th>\n",
       "      <th>hashedathleteid</th>\n",
       "      <th>date</th>\n",
       "      <th>day</th>\n",
       "      <th>elevgain</th>\n",
       "      <th>session_speed</th>\n",
       "      <th>totaldistance</th>\n",
       "      <th>session_time</th>\n",
       "      <th>marathon_finish_time</th>\n",
       "      <th>marathon_speed</th>\n",
       "    </tr>\n",
       "  </thead>\n",
       "  <tbody>\n",
       "    <tr>\n",
       "      <th>0</th>\n",
       "      <td>a6ae93146bc4dd6b73d38e5794b929ecbbe2ec4fd9a42c...</td>\n",
       "      <td>588fec45fcc4c30e2882cafda4582bbef4ef808971b5ce...</td>\n",
       "      <td>2015-02-07</td>\n",
       "      <td>Saturday</td>\n",
       "      <td>27.7500</td>\n",
       "      <td>12.062547</td>\n",
       "      <td>14.7322</td>\n",
       "      <td>75.701460</td>\n",
       "      <td>3.866633</td>\n",
       "      <td>10.912594</td>\n",
       "    </tr>\n",
       "    <tr>\n",
       "      <th>1</th>\n",
       "      <td>23f77558ccaace2f29e035d7990d14e4e5359b9595eb7a...</td>\n",
       "      <td>588fec45fcc4c30e2882cafda4582bbef4ef808971b5ce...</td>\n",
       "      <td>2015-03-29</td>\n",
       "      <td>Sunday</td>\n",
       "      <td>46.8029</td>\n",
       "      <td>10.170626</td>\n",
       "      <td>21.1151</td>\n",
       "      <td>124.565193</td>\n",
       "      <td>3.866633</td>\n",
       "      <td>10.912594</td>\n",
       "    </tr>\n",
       "    <tr>\n",
       "      <th>2</th>\n",
       "      <td>a9a217aa6a84ac4a6f57df61f5d26434fd7112cc94fd09...</td>\n",
       "      <td>588fec45fcc4c30e2882cafda4582bbef4ef808971b5ce...</td>\n",
       "      <td>2015-02-10</td>\n",
       "      <td>Tuesday</td>\n",
       "      <td>32.8400</td>\n",
       "      <td>10.866057</td>\n",
       "      <td>8.3354</td>\n",
       "      <td>46.026262</td>\n",
       "      <td>3.866633</td>\n",
       "      <td>10.912594</td>\n",
       "    </tr>\n",
       "    <tr>\n",
       "      <th>3</th>\n",
       "      <td>4a37d1ee822ea68d904442e240a58aedad9b38bed77790...</td>\n",
       "      <td>588fec45fcc4c30e2882cafda4582bbef4ef808971b5ce...</td>\n",
       "      <td>2015-04-09</td>\n",
       "      <td>Thursday</td>\n",
       "      <td>42.2500</td>\n",
       "      <td>10.588531</td>\n",
       "      <td>8.2448</td>\n",
       "      <td>47.195372</td>\n",
       "      <td>3.866633</td>\n",
       "      <td>10.912594</td>\n",
       "    </tr>\n",
       "    <tr>\n",
       "      <th>4</th>\n",
       "      <td>9d4d274d23c7ceaa58468c4724f738c1835a8a77523e31...</td>\n",
       "      <td>588fec45fcc4c30e2882cafda4582bbef4ef808971b5ce...</td>\n",
       "      <td>2015-01-26</td>\n",
       "      <td>Monday</td>\n",
       "      <td>27.3433</td>\n",
       "      <td>10.411186</td>\n",
       "      <td>5.0239</td>\n",
       "      <td>28.952898</td>\n",
       "      <td>3.866633</td>\n",
       "      <td>10.912594</td>\n",
       "    </tr>\n",
       "  </tbody>\n",
       "</table>\n",
       "</div>"
      ],
      "text/plain": [
       "                                            hashedid  \\\n",
       "0  a6ae93146bc4dd6b73d38e5794b929ecbbe2ec4fd9a42c...   \n",
       "1  23f77558ccaace2f29e035d7990d14e4e5359b9595eb7a...   \n",
       "2  a9a217aa6a84ac4a6f57df61f5d26434fd7112cc94fd09...   \n",
       "3  4a37d1ee822ea68d904442e240a58aedad9b38bed77790...   \n",
       "4  9d4d274d23c7ceaa58468c4724f738c1835a8a77523e31...   \n",
       "\n",
       "                                     hashedathleteid       date       day  \\\n",
       "0  588fec45fcc4c30e2882cafda4582bbef4ef808971b5ce... 2015-02-07  Saturday   \n",
       "1  588fec45fcc4c30e2882cafda4582bbef4ef808971b5ce... 2015-03-29    Sunday   \n",
       "2  588fec45fcc4c30e2882cafda4582bbef4ef808971b5ce... 2015-02-10   Tuesday   \n",
       "3  588fec45fcc4c30e2882cafda4582bbef4ef808971b5ce... 2015-04-09  Thursday   \n",
       "4  588fec45fcc4c30e2882cafda4582bbef4ef808971b5ce... 2015-01-26    Monday   \n",
       "\n",
       "   elevgain  session_speed  totaldistance  session_time  marathon_finish_time  \\\n",
       "0   27.7500      12.062547        14.7322     75.701460              3.866633   \n",
       "1   46.8029      10.170626        21.1151    124.565193              3.866633   \n",
       "2   32.8400      10.866057         8.3354     46.026262              3.866633   \n",
       "3   42.2500      10.588531         8.2448     47.195372              3.866633   \n",
       "4   27.3433      10.411186         5.0239     28.952898              3.866633   \n",
       "\n",
       "   marathon_speed  \n",
       "0       10.912594  \n",
       "1       10.912594  \n",
       "2       10.912594  \n",
       "3       10.912594  \n",
       "4       10.912594  "
      ]
     },
     "execution_count": 93,
     "metadata": {},
     "output_type": "execute_result"
    }
   ],
   "source": [
    "raw_df.head()"
   ]
  },
  {
   "cell_type": "markdown",
   "metadata": {},
   "source": [
    "# Prepare And Export The Various Dataframes"
   ]
  },
  {
   "cell_type": "markdown",
   "metadata": {},
   "source": [
    "Due to the nature of the advanced section, I will need to create a test and training set, along with my core dataframe. These will have different feature values, and so I will have to calculate the features (create the columsn) for each dataframe, independently from one another."
   ]
  },
  {
   "cell_type": "markdown",
   "metadata": {},
   "source": [
    "## Core Dataframe"
   ]
  },
  {
   "cell_type": "code",
   "execution_count": 94,
   "metadata": {},
   "outputs": [],
   "source": [
    "core_df = raw_df"
   ]
  },
  {
   "cell_type": "markdown",
   "metadata": {},
   "source": [
    "### Create New Columns "
   ]
  },
  {
   "cell_type": "code",
   "execution_count": 95,
   "metadata": {},
   "outputs": [],
   "source": [
    "average_weekly_trainings_dict = (core_df.groupby('hashedathleteid')['hashedid'].nunique()/15).to_dict()\n",
    "core_df['average_weekly_trainings'] = core_df.hashedathleteid.map(average_weekly_trainings_dict)"
   ]
  },
  {
   "cell_type": "code",
   "execution_count": 96,
   "metadata": {},
   "outputs": [],
   "source": [
    "average_weekly_training_hours_dict = ((core_df.groupby('hashedathleteid')['session_time'].sum()/60)/15).to_dict()\n",
    "core_df['average_weekly_training_hours'] = core_df.hashedathleteid.map(average_weekly_training_hours_dict)"
   ]
  },
  {
   "cell_type": "code",
   "execution_count": 97,
   "metadata": {},
   "outputs": [],
   "source": [
    "average_weekly_totaldistance_dict = (core_df.groupby('hashedathleteid')['totaldistance'].sum()/15).to_dict()\n",
    "core_df['average_weekly_totaldistance'] = core_df.hashedathleteid.map(average_weekly_totaldistance_dict)"
   ]
  },
  {
   "cell_type": "code",
   "execution_count": 98,
   "metadata": {},
   "outputs": [],
   "source": [
    "speed_std_dict = core_df.groupby('hashedathleteid')['session_speed'].std().to_dict()\n",
    "core_df['speed_std'] = core_df.hashedathleteid.map(speed_std_dict)"
   ]
  },
  {
   "cell_type": "code",
   "execution_count": 99,
   "metadata": {},
   "outputs": [],
   "source": [
    "totaldistance_std = core_df.groupby('hashedathleteid')['totaldistance'].std()\n",
    "totaldistance_std_dict = totaldistance_std.to_dict()\n",
    "core_df['totaldistance_std'] = core_df.hashedathleteid.map(totaldistance_std_dict)"
   ]
  },
  {
   "cell_type": "code",
   "execution_count": 100,
   "metadata": {},
   "outputs": [],
   "source": [
    "average_speed_dict = core_df.groupby('hashedathleteid')['session_speed'].mean().to_dict()\n",
    "core_df['average_speed'] = core_df.hashedathleteid.map(average_speed_dict)"
   ]
  },
  {
   "cell_type": "code",
   "execution_count": 101,
   "metadata": {},
   "outputs": [],
   "source": [
    "core_df['trained_below_marathon_speed'] = np.where(core_df['average_speed']<core_df['marathon_speed'], 1, 0)"
   ]
  },
  {
   "cell_type": "code",
   "execution_count": 102,
   "metadata": {},
   "outputs": [],
   "source": [
    "max_speed_dict = core_df.groupby('hashedathleteid')['totaldistance'].max()\n",
    "core_df['max_speed'] = core_df.hashedathleteid.map(max_speed_dict)"
   ]
  },
  {
   "cell_type": "code",
   "execution_count": 103,
   "metadata": {},
   "outputs": [],
   "source": [
    "core_df['marathon_distance_covered'] = np.where(core_df['max_speed']>=42.195, 1, 0)"
   ]
  },
  {
   "cell_type": "code",
   "execution_count": 104,
   "metadata": {},
   "outputs": [],
   "source": [
    "average_elevgain_dict = core_df.groupby('hashedathleteid')['elevgain'].mean().to_dict()\n",
    "core_df['average_elevgain'] = core_df.hashedathleteid.map(average_elevgain_dict)"
   ]
  },
  {
   "cell_type": "code",
   "execution_count": 105,
   "metadata": {},
   "outputs": [
    {
     "data": {
      "text/html": [
       "<div>\n",
       "<style scoped>\n",
       "    .dataframe tbody tr th:only-of-type {\n",
       "        vertical-align: middle;\n",
       "    }\n",
       "\n",
       "    .dataframe tbody tr th {\n",
       "        vertical-align: top;\n",
       "    }\n",
       "\n",
       "    .dataframe thead th {\n",
       "        text-align: right;\n",
       "    }\n",
       "</style>\n",
       "<table border=\"1\" class=\"dataframe\">\n",
       "  <thead>\n",
       "    <tr style=\"text-align: right;\">\n",
       "      <th></th>\n",
       "      <th>hashedid</th>\n",
       "      <th>hashedathleteid</th>\n",
       "      <th>date</th>\n",
       "      <th>day</th>\n",
       "      <th>elevgain</th>\n",
       "      <th>session_speed</th>\n",
       "      <th>totaldistance</th>\n",
       "      <th>session_time</th>\n",
       "      <th>marathon_finish_time</th>\n",
       "      <th>marathon_speed</th>\n",
       "      <th>average_weekly_trainings</th>\n",
       "      <th>average_weekly_training_hours</th>\n",
       "      <th>average_weekly_totaldistance</th>\n",
       "      <th>speed_std</th>\n",
       "      <th>totaldistance_std</th>\n",
       "      <th>average_speed</th>\n",
       "      <th>trained_below_marathon_speed</th>\n",
       "      <th>max_speed</th>\n",
       "      <th>marathon_distance_covered</th>\n",
       "      <th>average_elevgain</th>\n",
       "    </tr>\n",
       "  </thead>\n",
       "  <tbody>\n",
       "    <tr>\n",
       "      <th>0</th>\n",
       "      <td>a6ae93146bc4dd6b73d38e5794b929ecbbe2ec4fd9a42c...</td>\n",
       "      <td>588fec45fcc4c30e2882cafda4582bbef4ef808971b5ce...</td>\n",
       "      <td>2015-02-07</td>\n",
       "      <td>Saturday</td>\n",
       "      <td>27.7500</td>\n",
       "      <td>12.062547</td>\n",
       "      <td>14.7322</td>\n",
       "      <td>75.701460</td>\n",
       "      <td>3.866633</td>\n",
       "      <td>10.912594</td>\n",
       "      <td>5.466667</td>\n",
       "      <td>5.996248</td>\n",
       "      <td>64.20622</td>\n",
       "      <td>0.747782</td>\n",
       "      <td>7.337974</td>\n",
       "      <td>10.812254</td>\n",
       "      <td>1</td>\n",
       "      <td>33.7961</td>\n",
       "      <td>0</td>\n",
       "      <td>58.943371</td>\n",
       "    </tr>\n",
       "    <tr>\n",
       "      <th>1</th>\n",
       "      <td>23f77558ccaace2f29e035d7990d14e4e5359b9595eb7a...</td>\n",
       "      <td>588fec45fcc4c30e2882cafda4582bbef4ef808971b5ce...</td>\n",
       "      <td>2015-03-29</td>\n",
       "      <td>Sunday</td>\n",
       "      <td>46.8029</td>\n",
       "      <td>10.170626</td>\n",
       "      <td>21.1151</td>\n",
       "      <td>124.565193</td>\n",
       "      <td>3.866633</td>\n",
       "      <td>10.912594</td>\n",
       "      <td>5.466667</td>\n",
       "      <td>5.996248</td>\n",
       "      <td>64.20622</td>\n",
       "      <td>0.747782</td>\n",
       "      <td>7.337974</td>\n",
       "      <td>10.812254</td>\n",
       "      <td>1</td>\n",
       "      <td>33.7961</td>\n",
       "      <td>0</td>\n",
       "      <td>58.943371</td>\n",
       "    </tr>\n",
       "    <tr>\n",
       "      <th>2</th>\n",
       "      <td>a9a217aa6a84ac4a6f57df61f5d26434fd7112cc94fd09...</td>\n",
       "      <td>588fec45fcc4c30e2882cafda4582bbef4ef808971b5ce...</td>\n",
       "      <td>2015-02-10</td>\n",
       "      <td>Tuesday</td>\n",
       "      <td>32.8400</td>\n",
       "      <td>10.866057</td>\n",
       "      <td>8.3354</td>\n",
       "      <td>46.026262</td>\n",
       "      <td>3.866633</td>\n",
       "      <td>10.912594</td>\n",
       "      <td>5.466667</td>\n",
       "      <td>5.996248</td>\n",
       "      <td>64.20622</td>\n",
       "      <td>0.747782</td>\n",
       "      <td>7.337974</td>\n",
       "      <td>10.812254</td>\n",
       "      <td>1</td>\n",
       "      <td>33.7961</td>\n",
       "      <td>0</td>\n",
       "      <td>58.943371</td>\n",
       "    </tr>\n",
       "    <tr>\n",
       "      <th>3</th>\n",
       "      <td>4a37d1ee822ea68d904442e240a58aedad9b38bed77790...</td>\n",
       "      <td>588fec45fcc4c30e2882cafda4582bbef4ef808971b5ce...</td>\n",
       "      <td>2015-04-09</td>\n",
       "      <td>Thursday</td>\n",
       "      <td>42.2500</td>\n",
       "      <td>10.588531</td>\n",
       "      <td>8.2448</td>\n",
       "      <td>47.195372</td>\n",
       "      <td>3.866633</td>\n",
       "      <td>10.912594</td>\n",
       "      <td>5.466667</td>\n",
       "      <td>5.996248</td>\n",
       "      <td>64.20622</td>\n",
       "      <td>0.747782</td>\n",
       "      <td>7.337974</td>\n",
       "      <td>10.812254</td>\n",
       "      <td>1</td>\n",
       "      <td>33.7961</td>\n",
       "      <td>0</td>\n",
       "      <td>58.943371</td>\n",
       "    </tr>\n",
       "    <tr>\n",
       "      <th>4</th>\n",
       "      <td>9d4d274d23c7ceaa58468c4724f738c1835a8a77523e31...</td>\n",
       "      <td>588fec45fcc4c30e2882cafda4582bbef4ef808971b5ce...</td>\n",
       "      <td>2015-01-26</td>\n",
       "      <td>Monday</td>\n",
       "      <td>27.3433</td>\n",
       "      <td>10.411186</td>\n",
       "      <td>5.0239</td>\n",
       "      <td>28.952898</td>\n",
       "      <td>3.866633</td>\n",
       "      <td>10.912594</td>\n",
       "      <td>5.466667</td>\n",
       "      <td>5.996248</td>\n",
       "      <td>64.20622</td>\n",
       "      <td>0.747782</td>\n",
       "      <td>7.337974</td>\n",
       "      <td>10.812254</td>\n",
       "      <td>1</td>\n",
       "      <td>33.7961</td>\n",
       "      <td>0</td>\n",
       "      <td>58.943371</td>\n",
       "    </tr>\n",
       "  </tbody>\n",
       "</table>\n",
       "</div>"
      ],
      "text/plain": [
       "                                            hashedid  \\\n",
       "0  a6ae93146bc4dd6b73d38e5794b929ecbbe2ec4fd9a42c...   \n",
       "1  23f77558ccaace2f29e035d7990d14e4e5359b9595eb7a...   \n",
       "2  a9a217aa6a84ac4a6f57df61f5d26434fd7112cc94fd09...   \n",
       "3  4a37d1ee822ea68d904442e240a58aedad9b38bed77790...   \n",
       "4  9d4d274d23c7ceaa58468c4724f738c1835a8a77523e31...   \n",
       "\n",
       "                                     hashedathleteid       date       day  \\\n",
       "0  588fec45fcc4c30e2882cafda4582bbef4ef808971b5ce... 2015-02-07  Saturday   \n",
       "1  588fec45fcc4c30e2882cafda4582bbef4ef808971b5ce... 2015-03-29    Sunday   \n",
       "2  588fec45fcc4c30e2882cafda4582bbef4ef808971b5ce... 2015-02-10   Tuesday   \n",
       "3  588fec45fcc4c30e2882cafda4582bbef4ef808971b5ce... 2015-04-09  Thursday   \n",
       "4  588fec45fcc4c30e2882cafda4582bbef4ef808971b5ce... 2015-01-26    Monday   \n",
       "\n",
       "   elevgain  session_speed  totaldistance  session_time  marathon_finish_time  \\\n",
       "0   27.7500      12.062547        14.7322     75.701460              3.866633   \n",
       "1   46.8029      10.170626        21.1151    124.565193              3.866633   \n",
       "2   32.8400      10.866057         8.3354     46.026262              3.866633   \n",
       "3   42.2500      10.588531         8.2448     47.195372              3.866633   \n",
       "4   27.3433      10.411186         5.0239     28.952898              3.866633   \n",
       "\n",
       "   marathon_speed  average_weekly_trainings  average_weekly_training_hours  \\\n",
       "0       10.912594                  5.466667                       5.996248   \n",
       "1       10.912594                  5.466667                       5.996248   \n",
       "2       10.912594                  5.466667                       5.996248   \n",
       "3       10.912594                  5.466667                       5.996248   \n",
       "4       10.912594                  5.466667                       5.996248   \n",
       "\n",
       "   average_weekly_totaldistance  speed_std  totaldistance_std  average_speed  \\\n",
       "0                      64.20622   0.747782           7.337974      10.812254   \n",
       "1                      64.20622   0.747782           7.337974      10.812254   \n",
       "2                      64.20622   0.747782           7.337974      10.812254   \n",
       "3                      64.20622   0.747782           7.337974      10.812254   \n",
       "4                      64.20622   0.747782           7.337974      10.812254   \n",
       "\n",
       "   trained_below_marathon_speed  max_speed  marathon_distance_covered  \\\n",
       "0                             1    33.7961                          0   \n",
       "1                             1    33.7961                          0   \n",
       "2                             1    33.7961                          0   \n",
       "3                             1    33.7961                          0   \n",
       "4                             1    33.7961                          0   \n",
       "\n",
       "   average_elevgain  \n",
       "0         58.943371  \n",
       "1         58.943371  \n",
       "2         58.943371  \n",
       "3         58.943371  \n",
       "4         58.943371  "
      ]
     },
     "execution_count": 105,
     "metadata": {},
     "output_type": "execute_result"
    }
   ],
   "source": [
    "core_df.head()"
   ]
  },
  {
   "cell_type": "code",
   "execution_count": 106,
   "metadata": {},
   "outputs": [
    {
     "data": {
      "text/plain": [
       "131230"
      ]
     },
     "execution_count": 106,
     "metadata": {},
     "output_type": "execute_result"
    }
   ],
   "source": [
    "len(core_df)"
   ]
  },
  {
   "cell_type": "code",
   "execution_count": 107,
   "metadata": {},
   "outputs": [
    {
     "data": {
      "text/plain": [
       "3311"
      ]
     },
     "execution_count": 107,
     "metadata": {},
     "output_type": "execute_result"
    }
   ],
   "source": [
    "core_df['hashedathleteid'].nunique()"
   ]
  },
  {
   "cell_type": "markdown",
   "metadata": {},
   "source": [
    "### Export Dataframe"
   ]
  },
  {
   "cell_type": "code",
   "execution_count": 108,
   "metadata": {},
   "outputs": [],
   "source": [
    "with open('../data/core/core_df.pkl', 'wb') as f:\n",
    "    pickle.dump(core_df, f)"
   ]
  },
  {
   "cell_type": "markdown",
   "metadata": {},
   "source": [
    "## Advanced Dataframe: Training Set, First 7 weeks"
   ]
  },
  {
   "cell_type": "markdown",
   "metadata": {},
   "source": [
    "Determine a subgroup of test athletes randomly, the remaining athletes will form the training set"
   ]
  },
  {
   "cell_type": "code",
   "execution_count": 110,
   "metadata": {},
   "outputs": [],
   "source": [
    "athletes = raw_df.hashedathleteid.unique()\n",
    "training_athletes, test_athletes = train_test_split(athletes, test_size=0.003)##Returns Approx 10 Test Athletes "
   ]
  },
  {
   "cell_type": "code",
   "execution_count": 111,
   "metadata": {},
   "outputs": [],
   "source": [
    "training_df = raw_df[raw_df.hashedathleteid.isin(training_athletes)]\n",
    "test_df = raw_df[raw_df.hashedathleteid.isin(test_athletes)]"
   ]
  },
  {
   "cell_type": "code",
   "execution_count": 112,
   "metadata": {},
   "outputs": [],
   "source": [
    "training_first_weeks_df = training_df[training_df['date']<\"2015-03-01\"]##First 7 Training Weeks\n",
    "test_first_weeks_df = test_df[test_df['date']<\"2015-03-01\"]##Just Takes First 7 Training Weeks For the Test Athletes"
   ]
  },
  {
   "cell_type": "code",
   "execution_count": 113,
   "metadata": {},
   "outputs": [],
   "source": [
    "training_first_weeks_df = training_first_weeks_df[['hashedathleteid','date','totaldistance','session_speed','marathon_finish_time']]\n",
    "test_first_weeks_df = test_first_weeks_df[['hashedathleteid','hashedid','date','totaldistance','session_time','session_speed']]"
   ]
  },
  {
   "cell_type": "code",
   "execution_count": 114,
   "metadata": {},
   "outputs": [
    {
     "data": {
      "text/plain": [
       "3117"
      ]
     },
     "execution_count": 114,
     "metadata": {},
     "output_type": "execute_result"
    }
   ],
   "source": [
    "training_first_weeks_df['hashedathleteid'].nunique()"
   ]
  },
  {
   "cell_type": "code",
   "execution_count": 115,
   "metadata": {},
   "outputs": [
    {
     "data": {
      "text/plain": [
       "9"
      ]
     },
     "execution_count": 115,
     "metadata": {},
     "output_type": "execute_result"
    }
   ],
   "source": [
    "test_first_weeks_df['hashedathleteid'].nunique()"
   ]
  },
  {
   "cell_type": "markdown",
   "metadata": {},
   "source": [
    "### Export Dataframe"
   ]
  },
  {
   "cell_type": "markdown",
   "metadata": {},
   "source": [
    "Note: No new features were needed for this dataframe"
   ]
  },
  {
   "cell_type": "code",
   "execution_count": 116,
   "metadata": {},
   "outputs": [],
   "source": [
    "with open('../data/advanced/training_first_weeks_df.pkl', 'wb') as f:\n",
    "    pickle.dump(training_first_weeks_df, f)"
   ]
  },
  {
   "cell_type": "markdown",
   "metadata": {},
   "source": [
    "## Advanced Dataframe: Test Set, First 7 weeks"
   ]
  },
  {
   "cell_type": "markdown",
   "metadata": {},
   "source": [
    "### Create New Features"
   ]
  },
  {
   "cell_type": "code",
   "execution_count": 117,
   "metadata": {},
   "outputs": [],
   "source": [
    "average_weekly_trainings_dict = (test_first_weeks_df.groupby('hashedathleteid')['hashedid'].nunique()/7).to_dict()\n",
    "test_first_weeks_df['average_weekly_trainings'] = test_first_weeks_df.hashedathleteid.map(average_weekly_trainings_dict)"
   ]
  },
  {
   "cell_type": "code",
   "execution_count": 118,
   "metadata": {},
   "outputs": [],
   "source": [
    "average_weekly_training_hours_dict = ((test_first_weeks_df.groupby('hashedathleteid')['session_time'].sum()/60)/7).to_dict()\n",
    "test_first_weeks_df['average_weekly_training_hours'] = test_first_weeks_df.hashedathleteid.map(average_weekly_training_hours_dict)"
   ]
  },
  {
   "cell_type": "code",
   "execution_count": 119,
   "metadata": {},
   "outputs": [],
   "source": [
    "average_weekly_totaldistance_dict = (test_first_weeks_df.groupby('hashedathleteid')['totaldistance'].sum()/7).to_dict()\n",
    "test_first_weeks_df['average_weekly_totaldistance'] = test_first_weeks_df.hashedathleteid.map(average_weekly_totaldistance_dict)"
   ]
  },
  {
   "cell_type": "code",
   "execution_count": 120,
   "metadata": {},
   "outputs": [],
   "source": [
    "speed_std_dict = test_first_weeks_df.groupby('hashedathleteid')['session_speed'].std().to_dict()\n",
    "test_first_weeks_df['speed_std'] = test_first_weeks_df.hashedathleteid.map(speed_std_dict)"
   ]
  },
  {
   "cell_type": "code",
   "execution_count": 121,
   "metadata": {},
   "outputs": [],
   "source": [
    "totaldistance_std = test_first_weeks_df.groupby('hashedathleteid')['totaldistance'].std()\n",
    "totaldistance_std_dict = totaldistance_std.to_dict()\n",
    "test_first_weeks_df['totaldistance_std'] = test_first_weeks_df.hashedathleteid.map(totaldistance_std_dict)"
   ]
  },
  {
   "cell_type": "markdown",
   "metadata": {},
   "source": [
    "### Export Dataframe"
   ]
  },
  {
   "cell_type": "code",
   "execution_count": 122,
   "metadata": {},
   "outputs": [],
   "source": [
    "with open('../data/advanced/test_first_weeks_df.pkl', 'wb') as f:\n",
    "    pickle.dump(test_first_weeks_df, f)"
   ]
  },
  {
   "cell_type": "markdown",
   "metadata": {},
   "source": [
    "## Advanced Dataframe: Training Set, Last 7 weeks"
   ]
  },
  {
   "cell_type": "code",
   "execution_count": 123,
   "metadata": {},
   "outputs": [],
   "source": [
    "##Last 8 Training Weeks\n",
    "training_last_weeks_df = training_df[training_df['date']>=\"2015-03-01\"]"
   ]
  },
  {
   "cell_type": "markdown",
   "metadata": {},
   "source": [
    "### Create New Columns"
   ]
  },
  {
   "cell_type": "code",
   "execution_count": 124,
   "metadata": {},
   "outputs": [],
   "source": [
    "training_last_weeks_df = training_last_weeks_df[['hashedathleteid','hashedid','date','totaldistance','session_time','session_speed','marathon_finish_time']]"
   ]
  },
  {
   "cell_type": "code",
   "execution_count": 125,
   "metadata": {},
   "outputs": [],
   "source": [
    "average_weekly_trainings_dict = (training_last_weeks_df.groupby('hashedathleteid')['hashedid'].nunique()/8).to_dict()\n",
    "training_last_weeks_df['average_weekly_trainings'] = training_last_weeks_df.hashedathleteid.map(average_weekly_trainings_dict)"
   ]
  },
  {
   "cell_type": "code",
   "execution_count": 126,
   "metadata": {},
   "outputs": [],
   "source": [
    "average_weekly_training_hours_dict = ((training_last_weeks_df.groupby('hashedathleteid')['session_time'].sum()/60)/8).to_dict()\n",
    "training_last_weeks_df['average_weekly_training_hours'] = training_last_weeks_df.hashedathleteid.map(average_weekly_training_hours_dict)"
   ]
  },
  {
   "cell_type": "code",
   "execution_count": 127,
   "metadata": {},
   "outputs": [],
   "source": [
    "average_weekly_totaldistance_dict = (training_last_weeks_df.groupby('hashedathleteid')['totaldistance'].sum()/8).to_dict()\n",
    "training_last_weeks_df['average_weekly_totaldistance'] = training_last_weeks_df.hashedathleteid.map(average_weekly_totaldistance_dict)"
   ]
  },
  {
   "cell_type": "code",
   "execution_count": 128,
   "metadata": {},
   "outputs": [],
   "source": [
    "speed_std_dict = training_last_weeks_df.groupby('hashedathleteid')['session_speed'].std().to_dict()\n",
    "training_last_weeks_df['speed_std'] = training_last_weeks_df.hashedathleteid.map(speed_std_dict)"
   ]
  },
  {
   "cell_type": "code",
   "execution_count": 129,
   "metadata": {},
   "outputs": [],
   "source": [
    "totaldistance_std = training_last_weeks_df.groupby('hashedathleteid')['totaldistance'].std()\n",
    "totaldistance_std_dict = totaldistance_std.to_dict()\n",
    "training_last_weeks_df['totaldistance_std'] = training_last_weeks_df.hashedathleteid.map(totaldistance_std_dict)"
   ]
  },
  {
   "cell_type": "markdown",
   "metadata": {},
   "source": [
    "### Export Dataframe"
   ]
  },
  {
   "cell_type": "code",
   "execution_count": 130,
   "metadata": {},
   "outputs": [],
   "source": [
    "with open('../data/advanced/training_last_weeks_df.pkl', 'wb') as f:\n",
    "    pickle.dump(training_last_weeks_df, f)"
   ]
  }
 ],
 "metadata": {
  "kernelspec": {
   "display_name": "Python 3",
   "language": "python",
   "name": "python3"
  },
  "language_info": {
   "codemirror_mode": {
    "name": "ipython",
    "version": 3
   },
   "file_extension": ".py",
   "mimetype": "text/x-python",
   "name": "python",
   "nbconvert_exporter": "python",
   "pygments_lexer": "ipython3",
   "version": "3.6.5"
  },
  "toc": {
   "base_numbering": 1,
   "nav_menu": {},
   "number_sections": true,
   "sideBar": true,
   "skip_h1_title": false,
   "title_cell": "Table of Contents",
   "title_sidebar": "Contents",
   "toc_cell": true,
   "toc_position": {},
   "toc_section_display": true,
   "toc_window_display": false
  }
 },
 "nbformat": 4,
 "nbformat_minor": 2
}
