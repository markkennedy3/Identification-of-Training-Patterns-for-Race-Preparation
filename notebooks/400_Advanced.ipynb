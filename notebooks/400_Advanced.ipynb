{
 "cells": [
  {
   "cell_type": "markdown",
   "metadata": {},
   "source": [
    "# 400_Advanced"
   ]
  },
  {
   "cell_type": "markdown",
   "metadata": {},
   "source": [
    "In this notebook I will implement the advanced stage of the project which is to...\n",
    "* Build a recommender model capable of recommending new training targets for individual athletes, based on their completed sessions to-date. These targets will help the athletes to achieve their desired finish time in the eventual marathon race."
   ]
  },
  {
   "cell_type": "markdown",
   "metadata": {
    "toc": true
   },
   "source": [
    "<h1>Table of Contents<span class=\"tocSkip\"></span></h1>\n",
    "<div class=\"toc\"><ul class=\"toc-item\"><li><span><a href=\"#400_Advanced\" data-toc-modified-id=\"400_Advanced-1\"><span class=\"toc-item-num\">1&nbsp;&nbsp;</span>400_Advanced</a></span></li><li><span><a href=\"#Notebook-Set-Up\" data-toc-modified-id=\"Notebook-Set-Up-2\"><span class=\"toc-item-num\">2&nbsp;&nbsp;</span>Notebook Set Up</a></span><ul class=\"toc-item\"><li><span><a href=\"#Import-Packages\" data-toc-modified-id=\"Import-Packages-2.1\"><span class=\"toc-item-num\">2.1&nbsp;&nbsp;</span>Import Packages</a></span></li><li><span><a href=\"#Set-Parameters-For-Graphs\" data-toc-modified-id=\"Set-Parameters-For-Graphs-2.2\"><span class=\"toc-item-num\">2.2&nbsp;&nbsp;</span>Set Parameters For Graphs</a></span></li></ul></li><li><span><a href=\"#Load-Data\" data-toc-modified-id=\"Load-Data-3\"><span class=\"toc-item-num\">3&nbsp;&nbsp;</span>Load Data</a></span></li><li><span><a href=\"#Advanced\" data-toc-modified-id=\"Advanced-4\"><span class=\"toc-item-num\">4&nbsp;&nbsp;</span>Advanced</a></span><ul class=\"toc-item\"><li><span><a href=\"#Step-1:-Extract-the-Features\" data-toc-modified-id=\"Step-1:-Extract-the-Features-4.1\"><span class=\"toc-item-num\">4.1&nbsp;&nbsp;</span>Step 1: Extract the Features</a></span></li><li><span><a href=\"#Step-2:-Choose-Test-Athlete\" data-toc-modified-id=\"Step-2:-Choose-Test-Athlete-4.2\"><span class=\"toc-item-num\">4.2&nbsp;&nbsp;</span>Step 2: Choose Test Athlete</a></span></li><li><span><a href=\"#Step-3:-Find-Neighbourhood-Of-Test-Athlete\" data-toc-modified-id=\"Step-3:-Find-Neighbourhood-Of-Test-Athlete-4.3\"><span class=\"toc-item-num\">4.3&nbsp;&nbsp;</span>Step 3: Find Neighbourhood Of Test Athlete</a></span></li><li><span><a href=\"#Step-4:-Find-The-Desired-Marathon-Finish-Time-Of-The-Athlete\" data-toc-modified-id=\"Step-4:-Find-The-Desired-Marathon-Finish-Time-Of-The-Athlete-4.4\"><span class=\"toc-item-num\">4.4&nbsp;&nbsp;</span>Step 4: Find The Desired Marathon Finish Time Of The Athlete</a></span></li></ul></li><li><span><a href=\"#Output\" data-toc-modified-id=\"Output-5\"><span class=\"toc-item-num\">5&nbsp;&nbsp;</span>Output</a></span><ul class=\"toc-item\"><li><span><a href=\"#Recommend-New-Training-Targets\" data-toc-modified-id=\"Recommend-New-Training-Targets-5.1\"><span class=\"toc-item-num\">5.1&nbsp;&nbsp;</span>Recommend New Training Targets</a></span></li><li><span><a href=\"#Percentage-Change-From-Current-Programme\" data-toc-modified-id=\"Percentage-Change-From-Current-Programme-5.2\"><span class=\"toc-item-num\">5.2&nbsp;&nbsp;</span>Percentage Change From Current Programme</a></span></li></ul></li></ul></div>"
   ]
  },
  {
   "cell_type": "markdown",
   "metadata": {},
   "source": [
    "# Notebook Set Up"
   ]
  },
  {
   "cell_type": "markdown",
   "metadata": {},
   "source": [
    "## Import Packages"
   ]
  },
  {
   "cell_type": "code",
   "execution_count": 1,
   "metadata": {},
   "outputs": [],
   "source": [
    "import pickle\n",
    "import os.path\n",
    "import numpy as np\n",
    "import pandas as pd\n",
    "from IPython import display\n",
    "import ipywidgets as widgets\n",
    "import matplotlib.pyplot as plt\n",
    "from sklearn.neighbors import NearestNeighbors\n",
    "from tsfresh import extract_features, select_features\n",
    "%matplotlib inline"
   ]
  },
  {
   "cell_type": "markdown",
   "metadata": {},
   "source": [
    "## Set Parameters For Graphs"
   ]
  },
  {
   "cell_type": "code",
   "execution_count": 2,
   "metadata": {},
   "outputs": [],
   "source": [
    "# Text, linees, and markers...\n",
    "plt.rcParams['text.color'] = 'k'\n",
    "plt.rcParams['axes.labelcolor'] = 'k'\n",
    "\n",
    "plt.rcParams['axes.titlesize'] = 28\n",
    "plt.rcParams['axes.titleweight'] = 'bold'\n",
    "plt.rcParams['axes.labelsize'] = 28\n",
    "plt.rcParams['axes.labelweight'] = 'bold'\n",
    "\n",
    "plt.rcParams['xtick.labelsize'] = 22\n",
    "plt.rcParams['ytick.labelsize'] = 22\n",
    "\n",
    "plt.rcParams['axes.grid'] = True\n",
    "\n",
    "plt.rcParams['lines.markersize'] = 15\n",
    "plt.rcParams['lines.markeredgewidth'] = 1\n",
    "plt.rcParams['lines.linewidth'] = 2\n",
    "\n",
    "plt.rcParams['legend.fontsize'] = 30"
   ]
  },
  {
   "cell_type": "markdown",
   "metadata": {},
   "source": [
    "# Load Data"
   ]
  },
  {
   "cell_type": "code",
   "execution_count": 3,
   "metadata": {},
   "outputs": [],
   "source": [
    "with open('../data/advanced/training_first_weeks_df.pkl', 'rb') as f:\n",
    "    training_first_weeks_df = pickle.load(f)"
   ]
  },
  {
   "cell_type": "code",
   "execution_count": 4,
   "metadata": {},
   "outputs": [],
   "source": [
    "with open('../data/advanced/training_last_weeks_df.pkl', 'rb') as f:\n",
    "    training_last_weeks_df = pickle.load(f)"
   ]
  },
  {
   "cell_type": "code",
   "execution_count": 5,
   "metadata": {},
   "outputs": [],
   "source": [
    "with open('../data/advanced/test_first_weeks_df.pkl', 'rb') as f:\n",
    "    test_first_weeks_df = pickle.load(f)"
   ]
  },
  {
   "cell_type": "markdown",
   "metadata": {},
   "source": [
    "# Advanced"
   ]
  },
  {
   "cell_type": "markdown",
   "metadata": {},
   "source": [
    "## Step 1: Extract the Features"
   ]
  },
  {
   "cell_type": "code",
   "execution_count": 6,
   "metadata": {},
   "outputs": [],
   "source": [
    "training_first_weeks_EF = training_first_weeks_df[['hashedathleteid','date','totaldistance','session_speed']]\n",
    "test_first_weeks_EF = test_first_weeks_df[['hashedathleteid','date','totaldistance','session_speed']]"
   ]
  },
  {
   "cell_type": "code",
   "execution_count": 7,
   "metadata": {},
   "outputs": [
    {
     "name": "stderr",
     "output_type": "stream",
     "text": [
      "Feature Extraction: 100%|██████████| 179/179 [00:22<00:00, 17.85it/s]\n",
      "Feature Extraction: 100%|██████████| 20/20 [00:00<00:00, 101.50it/s]\n"
     ]
    }
   ],
   "source": [
    "training_first_weeks_EF = extract_features(training_first_weeks_EF, column_id=\"hashedathleteid\",column_sort=\"date\")\n",
    "test_first_weeks_EF = extract_features(test_first_weeks_EF, column_id=\"hashedathleteid\",column_sort=\"date\")"
   ]
  },
  {
   "cell_type": "code",
   "execution_count": 8,
   "metadata": {},
   "outputs": [],
   "source": [
    "test_first_weeks_EF = test_first_weeks_EF.replace([np.inf, -np.inf], np.nan).dropna(axis=1)\n",
    "training_first_weeks_EF = training_first_weeks_EF.replace([np.inf, -np.inf], np.nan).dropna(axis=1)"
   ]
  },
  {
   "cell_type": "markdown",
   "metadata": {},
   "source": [
    "Find Common Finite Columns"
   ]
  },
  {
   "cell_type": "code",
   "execution_count": 9,
   "metadata": {},
   "outputs": [],
   "source": [
    "common_columns = np.intersect1d(test_first_weeks_EF.columns, training_first_weeks_EF.columns)"
   ]
  },
  {
   "cell_type": "code",
   "execution_count": 10,
   "metadata": {},
   "outputs": [],
   "source": [
    "training_first_weeks_EF = training_first_weeks_EF[common_columns]\n",
    "test_first_weeks_EF = test_first_weeks_EF[common_columns]"
   ]
  },
  {
   "cell_type": "code",
   "execution_count": 11,
   "metadata": {},
   "outputs": [
    {
     "data": {
      "text/plain": [
       "(3116, 492)"
      ]
     },
     "execution_count": 11,
     "metadata": {},
     "output_type": "execute_result"
    }
   ],
   "source": [
    "training_first_weeks_EF.shape"
   ]
  },
  {
   "cell_type": "code",
   "execution_count": 12,
   "metadata": {},
   "outputs": [
    {
     "data": {
      "text/plain": [
       "(10, 492)"
      ]
     },
     "execution_count": 12,
     "metadata": {},
     "output_type": "execute_result"
    }
   ],
   "source": [
    "test_first_weeks_EF.shape"
   ]
  },
  {
   "cell_type": "code",
   "execution_count": 13,
   "metadata": {},
   "outputs": [],
   "source": [
    "mft_df = training_first_weeks_df[['hashedathleteid','marathon_finish_time']]\n",
    "mft_df = mft_df.set_index('hashedathleteid')\n",
    "mft_dict = mft_df.T.squeeze().to_dict()"
   ]
  },
  {
   "cell_type": "code",
   "execution_count": 14,
   "metadata": {},
   "outputs": [],
   "source": [
    "training_first_weeks_EF['marathon_finish_time'] = training_first_weeks_EF.index.map(mft_dict)"
   ]
  },
  {
   "cell_type": "code",
   "execution_count": 15,
   "metadata": {},
   "outputs": [],
   "source": [
    "choose_athlete = widgets.Dropdown(\n",
    "    options=test_first_weeks_EF.index,\n",
    "    description='Athlete:',\n",
    "    disabled=False,\n",
    ")"
   ]
  },
  {
   "cell_type": "markdown",
   "metadata": {},
   "source": [
    "## Step 2: Choose Test Athlete"
   ]
  },
  {
   "cell_type": "markdown",
   "metadata": {},
   "source": [
    "I use a widget to allow the user to choose the test athlete"
   ]
  },
  {
   "cell_type": "code",
   "execution_count": 16,
   "metadata": {},
   "outputs": [
    {
     "data": {
      "application/vnd.jupyter.widget-view+json": {
       "model_id": "fae09b98d211426ba71f337f1e822e87",
       "version_major": 2,
       "version_minor": 0
      },
      "text/plain": [
       "Dropdown(description='Athlete:', options=('0e6d0e234ab5af0c16ade602c21c077b3f51ac0646472b5eeb1d5d449055f951', …"
      ]
     },
     "metadata": {},
     "output_type": "display_data"
    }
   ],
   "source": [
    "choose_athlete"
   ]
  },
  {
   "cell_type": "code",
   "execution_count": 17,
   "metadata": {},
   "outputs": [
    {
     "data": {
      "text/plain": [
       "'0e6d0e234ab5af0c16ade602c21c077b3f51ac0646472b5eeb1d5d449055f951'"
      ]
     },
     "execution_count": 17,
     "metadata": {},
     "output_type": "execute_result"
    }
   ],
   "source": [
    "test_athlete = choose_athlete.value\n",
    "test_athlete"
   ]
  },
  {
   "cell_type": "code",
   "execution_count": 18,
   "metadata": {},
   "outputs": [],
   "source": [
    "test_athlete_first_weeks = test_first_weeks_EF[test_first_weeks_EF.index == test_athlete]"
   ]
  },
  {
   "cell_type": "markdown",
   "metadata": {},
   "source": [
    "## Step 3: Find Neighbourhood Of Test Athlete"
   ]
  },
  {
   "cell_type": "code",
   "execution_count": 19,
   "metadata": {},
   "outputs": [],
   "source": [
    "ten_percent_of_population = int(training_first_weeks_df['hashedathleteid'].nunique()*0.10)\n",
    "nbrs = NearestNeighbors(n_neighbors=ten_percent_of_population,metric='euclidean').fit(training_first_weeks_EF[common_columns].values)\n",
    "distances, indices = nbrs.kneighbors(test_athlete_first_weeks.values)"
   ]
  },
  {
   "cell_type": "code",
   "execution_count": 20,
   "metadata": {},
   "outputs": [],
   "source": [
    "neighbourhood = training_first_weeks_EF.iloc[indices[0]]"
   ]
  },
  {
   "cell_type": "markdown",
   "metadata": {},
   "source": [
    "## Step 4: Find The Desired Marathon Finish Time Of The Athlete"
   ]
  },
  {
   "cell_type": "markdown",
   "metadata": {},
   "source": [
    "A predicted fininsh time is made by finding the average finish times of the test athlete. The test athlete is then able to enter a desired finish time. However the desired finish time must lie between 20% either side of the predicted time."
   ]
  },
  {
   "cell_type": "code",
   "execution_count": 21,
   "metadata": {},
   "outputs": [
    {
     "data": {
      "text/plain": [
       "3.321859900268422"
      ]
     },
     "execution_count": 21,
     "metadata": {},
     "output_type": "execute_result"
    }
   ],
   "source": [
    "predicted_finish_time = neighbourhood.marathon_finish_time.mean()\n",
    "predicted_finish_time"
   ]
  },
  {
   "cell_type": "code",
   "execution_count": 22,
   "metadata": {},
   "outputs": [],
   "source": [
    "def f(desired_marathon_finish_time):\n",
    "    return desired_marathon_finish_time"
   ]
  },
  {
   "cell_type": "code",
   "execution_count": 23,
   "metadata": {},
   "outputs": [],
   "source": [
    "max_time = predicted_finish_time*1.2\n",
    "min_time = predicted_finish_time*0.8"
   ]
  },
  {
   "cell_type": "code",
   "execution_count": 24,
   "metadata": {},
   "outputs": [],
   "source": [
    "dmft =    widgets.FloatSlider(            \\\n",
    "            description = \"Finish Time:\", \\\n",
    "            min=min_time,                 \\\n",
    "            max=max_time,                 \\\n",
    "            step=0.01,value=predicted_finish_time)"
   ]
  },
  {
   "cell_type": "code",
   "execution_count": 25,
   "metadata": {},
   "outputs": [
    {
     "data": {
      "application/vnd.jupyter.widget-view+json": {
       "model_id": "d1570cced4754e28984a35e2688e7888",
       "version_major": 2,
       "version_minor": 0
      },
      "text/plain": [
       "FloatSlider(value=3.321859900268422, description='Finish Time:', max=3.986231880322106, min=2.657487920214738,…"
      ]
     },
     "metadata": {},
     "output_type": "display_data"
    }
   ],
   "source": [
    "display.display(dmft)"
   ]
  },
  {
   "cell_type": "code",
   "execution_count": 26,
   "metadata": {},
   "outputs": [],
   "source": [
    "desired_marathon_finish_time = dmft.value"
   ]
  },
  {
   "cell_type": "markdown",
   "metadata": {},
   "source": [
    "# Output"
   ]
  },
  {
   "cell_type": "markdown",
   "metadata": {},
   "source": [
    "## Recommend New Training Targets"
   ]
  },
  {
   "cell_type": "markdown",
   "metadata": {},
   "source": [
    "I will refrain from commenting as these results are discussed in create detail in the report.  "
   ]
  },
  {
   "cell_type": "code",
   "execution_count": 27,
   "metadata": {},
   "outputs": [
    {
     "data": {
      "text/html": [
       "<div>\n",
       "<style scoped>\n",
       "    .dataframe tbody tr th:only-of-type {\n",
       "        vertical-align: middle;\n",
       "    }\n",
       "\n",
       "    .dataframe tbody tr th {\n",
       "        vertical-align: top;\n",
       "    }\n",
       "\n",
       "    .dataframe thead th {\n",
       "        text-align: right;\n",
       "    }\n",
       "</style>\n",
       "<table border=\"1\" class=\"dataframe\">\n",
       "  <thead>\n",
       "    <tr style=\"text-align: right;\">\n",
       "      <th></th>\n",
       "      <th>0</th>\n",
       "    </tr>\n",
       "  </thead>\n",
       "  <tbody>\n",
       "    <tr>\n",
       "      <th>average_weekly_trainings</th>\n",
       "      <td>3.000000</td>\n",
       "    </tr>\n",
       "    <tr>\n",
       "      <th>average_weekly_training_hours</th>\n",
       "      <td>3.721716</td>\n",
       "    </tr>\n",
       "    <tr>\n",
       "      <th>average_weekly_totaldistance</th>\n",
       "      <td>39.358544</td>\n",
       "    </tr>\n",
       "    <tr>\n",
       "      <th>totaldistance_std</th>\n",
       "      <td>6.254126</td>\n",
       "    </tr>\n",
       "    <tr>\n",
       "      <th>session_speed</th>\n",
       "      <td>10.693909</td>\n",
       "    </tr>\n",
       "    <tr>\n",
       "      <th>speed_std</th>\n",
       "      <td>0.992535</td>\n",
       "    </tr>\n",
       "  </tbody>\n",
       "</table>\n",
       "</div>"
      ],
      "text/plain": [
       "                                       0\n",
       "average_weekly_trainings        3.000000\n",
       "average_weekly_training_hours   3.721716\n",
       "average_weekly_totaldistance   39.358544\n",
       "totaldistance_std               6.254126\n",
       "session_speed                  10.693909\n",
       "speed_std                       0.992535"
      ]
     },
     "execution_count": 27,
     "metadata": {},
     "output_type": "execute_result"
    }
   ],
   "source": [
    "current_stats = test_first_weeks_df[['average_weekly_trainings','average_weekly_training_hours','average_weekly_totaldistance','totaldistance_std','session_speed','speed_std']].mean()\n",
    "current_stats_df = current_stats.to_frame()\n",
    "current_stats_df"
   ]
  },
  {
   "cell_type": "code",
   "execution_count": 28,
   "metadata": {},
   "outputs": [
    {
     "data": {
      "text/html": [
       "<div>\n",
       "<style scoped>\n",
       "    .dataframe tbody tr th:only-of-type {\n",
       "        vertical-align: middle;\n",
       "    }\n",
       "\n",
       "    .dataframe tbody tr th {\n",
       "        vertical-align: top;\n",
       "    }\n",
       "\n",
       "    .dataframe thead th {\n",
       "        text-align: right;\n",
       "    }\n",
       "</style>\n",
       "<table border=\"1\" class=\"dataframe\">\n",
       "  <thead>\n",
       "    <tr style=\"text-align: right;\">\n",
       "      <th></th>\n",
       "      <th>Targets</th>\n",
       "    </tr>\n",
       "  </thead>\n",
       "  <tbody>\n",
       "    <tr>\n",
       "      <th>average_weekly_trainings</th>\n",
       "      <td>4.312909</td>\n",
       "    </tr>\n",
       "    <tr>\n",
       "      <th>average_weekly_training_hours</th>\n",
       "      <td>5.218424</td>\n",
       "    </tr>\n",
       "    <tr>\n",
       "      <th>average_weekly_totaldistance</th>\n",
       "      <td>64.118554</td>\n",
       "    </tr>\n",
       "    <tr>\n",
       "      <th>totaldistance_std</th>\n",
       "      <td>8.295639</td>\n",
       "    </tr>\n",
       "    <tr>\n",
       "      <th>session_speed</th>\n",
       "      <td>12.476166</td>\n",
       "    </tr>\n",
       "    <tr>\n",
       "      <th>speed_std</th>\n",
       "      <td>1.491136</td>\n",
       "    </tr>\n",
       "  </tbody>\n",
       "</table>\n",
       "</div>"
      ],
      "text/plain": [
       "                                 Targets\n",
       "average_weekly_trainings        4.312909\n",
       "average_weekly_training_hours   5.218424\n",
       "average_weekly_totaldistance   64.118554\n",
       "totaldistance_std               8.295639\n",
       "session_speed                  12.476166\n",
       "speed_std                       1.491136"
      ]
     },
     "execution_count": 28,
     "metadata": {},
     "output_type": "execute_result"
    }
   ],
   "source": [
    "recommended_targets = training_last_weeks_df[training_last_weeks_df['marathon_finish_time']<=desired_marathon_finish_time][['average_weekly_trainings','average_weekly_training_hours','average_weekly_totaldistance','totaldistance_std','session_speed','speed_std']].mean()\n",
    "recommended_targets_df = recommended_targets.to_frame()\n",
    "recommended_targets_df.columns = ['Targets']\n",
    "recommended_targets_df"
   ]
  },
  {
   "cell_type": "code",
   "execution_count": 29,
   "metadata": {},
   "outputs": [],
   "source": [
    "recommended_targets_df.to_json(r'../data/advanced/training_targets.json')"
   ]
  },
  {
   "cell_type": "code",
   "execution_count": 30,
   "metadata": {},
   "outputs": [
    {
     "data": {
      "text/plain": [
       "average_weekly_trainings         43.763627\n",
       "average_weekly_training_hours    40.215559\n",
       "average_weekly_totaldistance     62.908858\n",
       "totaldistance_std                32.642664\n",
       "session_speed                    16.666094\n",
       "speed_std                        50.235123\n",
       "dtype: float64"
      ]
     },
     "execution_count": 30,
     "metadata": {},
     "output_type": "execute_result"
    }
   ],
   "source": [
    "percentage_difference = ((recommended_targets/current_stats)-1)*100\n",
    "percentage_difference"
   ]
  },
  {
   "cell_type": "code",
   "execution_count": 31,
   "metadata": {},
   "outputs": [],
   "source": [
    "percentage_difference_df = percentage_difference.to_frame()\n",
    "percentage_difference_df.columns = ['Percentage Change']\n",
    "percentage_difference_df.to_json(r'../data/advanced/percentage_change.json')"
   ]
  },
  {
   "cell_type": "markdown",
   "metadata": {},
   "source": [
    "## Percentage Change From Current Programme"
   ]
  },
  {
   "cell_type": "code",
   "execution_count": 32,
   "metadata": {},
   "outputs": [
    {
     "data": {
      "image/png": "[encoded data removed]",
      "text/plain": [
       "<Figure size 504x720 with 1 Axes>"
      ]
     },
     "metadata": {
      "needs_background": "light"
     },
     "output_type": "display_data"
    }
   ],
   "source": [
    "fig, ax = plt.subplots(figsize=(7,10))\n",
    "y=['average_weekly_trainings','average_weekly_training_hours','average_weekly_totaldistance','totaldistance_std','session_speed','speed_std']\n",
    "ax.barh(y,percentage_difference, align='center', ecolor='black',color='#f75016')\n",
    "ax.invert_yaxis()  \n",
    "ax.set_xlabel('%',color='k')\n",
    "ax.tick_params(axis='x',colors='k')\n",
    "ax.set_facecolor('#c0c0c0')\n",
    "ax.set_title('%Change From Current Training Programme',size=15,color='k')\n",
    "plt.show()"
   ]
  }
 ],
 "metadata": {
  "kernelspec": {
   "display_name": "Python 3",
   "language": "python",
   "name": "python3"
  },
  "language_info": {
   "codemirror_mode": {
    "name": "ipython",
    "version": 3
   },
   "file_extension": ".py",
   "mimetype": "text/x-python",
   "name": "python",
   "nbconvert_exporter": "python",
   "pygments_lexer": "ipython3",
   "version": "3.6.5"
  },
  "toc": {
   "base_numbering": 1,
   "nav_menu": {},
   "number_sections": true,
   "sideBar": true,
   "skip_h1_title": false,
   "title_cell": "Table of Contents",
   "title_sidebar": "Contents",
   "toc_cell": true,
   "toc_position": {},
   "toc_section_display": true,
   "toc_window_display": false
  }
 },
 "nbformat": 4,
 "nbformat_minor": 2
}
